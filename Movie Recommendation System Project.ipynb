{
 "cells": [
  {
   "cell_type": "markdown",
   "metadata": {},
   "source": [
    "# Machine Learning\n",
    "*Note- This notebook is where the data was analyzes and the recommendation system was built\n",
    "## Topic: movie recommendation system\n"
   ]
  },
  {
   "cell_type": "code",
   "execution_count": 43,
   "metadata": {
    "execution": {
     "iopub.execute_input": "2023-02-23T13:38:50.861204Z",
     "iopub.status.busy": "2023-02-23T13:38:50.860888Z",
     "iopub.status.idle": "2023-02-23T13:38:50.869608Z",
     "shell.execute_reply": "2023-02-23T13:38:50.868444Z",
     "shell.execute_reply.started": "2023-02-23T13:38:50.861179Z"
    }
   },
   "outputs": [],
   "source": [
    "import pandas as pd\n",
    "import numpy as np\n",
    "import matplotlib.pyplot as plt\n",
    "%matplotlib inline\n",
    "import seaborn as sns\n",
    "import ast\n",
    "from sklearn.feature_extraction.text import CountVectorizer\n",
    "import nltk\n",
    "from nltk.stem.porter import PorterStemmer\n",
    "from sklearn.metrics.pairwise import cosine_similarity\n",
    "import pickle \n",
    "\n",
    "import warnings\n"
   ]
  },
  {
   "cell_type": "code",
   "execution_count": 44,
   "metadata": {
    "execution": {
     "iopub.execute_input": "2023-02-23T13:38:50.872028Z",
     "iopub.status.busy": "2023-02-23T13:38:50.871639Z",
     "iopub.status.idle": "2023-02-23T13:38:50.878302Z",
     "shell.execute_reply": "2023-02-23T13:38:50.877338Z",
     "shell.execute_reply.started": "2023-02-23T13:38:50.871992Z"
    }
   },
   "outputs": [],
   "source": [
    "warnings.filterwarnings(\"ignore\")"
   ]
  },
  {
   "cell_type": "markdown",
   "metadata": {},
   "source": [
    "## Datasets\n",
    "\n"
   ]
  },
  {
   "cell_type": "code",
   "execution_count": 45,
   "metadata": {
    "execution": {
     "iopub.execute_input": "2023-02-23T13:38:50.880018Z",
     "iopub.status.busy": "2023-02-23T13:38:50.87973Z",
     "iopub.status.idle": "2023-02-23T13:38:51.275301Z",
     "shell.execute_reply": "2023-02-23T13:38:51.27461Z",
     "shell.execute_reply.started": "2023-02-23T13:38:50.879994Z"
    }
   },
   "outputs": [],
   "source": [
    "movies =pd.read_csv(\"tmdb_5000_movies.csv\")\n",
    "credits =pd.read_csv(\"tmdb_5000_credits.csv\")"
   ]
  },
  {
   "cell_type": "code",
   "execution_count": 46,
   "metadata": {
    "execution": {
     "iopub.execute_input": "2023-02-23T13:38:51.277004Z",
     "iopub.status.busy": "2023-02-23T13:38:51.276622Z",
     "iopub.status.idle": "2023-02-23T13:38:51.282315Z",
     "shell.execute_reply": "2023-02-23T13:38:51.281401Z",
     "shell.execute_reply.started": "2023-02-23T13:38:51.27698Z"
    }
   },
   "outputs": [
    {
     "data": {
      "text/plain": [
       "(4803, 20)"
      ]
     },
     "execution_count": 46,
     "metadata": {},
     "output_type": "execute_result"
    }
   ],
   "source": [
    "movies.shape"
   ]
  },
  {
   "cell_type": "code",
   "execution_count": 47,
   "metadata": {
    "execution": {
     "iopub.execute_input": "2023-02-23T13:38:51.286255Z",
     "iopub.status.busy": "2023-02-23T13:38:51.285579Z",
     "iopub.status.idle": "2023-02-23T13:38:51.291834Z",
     "shell.execute_reply": "2023-02-23T13:38:51.291335Z",
     "shell.execute_reply.started": "2023-02-23T13:38:51.286225Z"
    }
   },
   "outputs": [
    {
     "data": {
      "text/plain": [
       "(4803, 4)"
      ]
     },
     "execution_count": 47,
     "metadata": {},
     "output_type": "execute_result"
    }
   ],
   "source": [
    "credits.shape"
   ]
  },
  {
   "cell_type": "markdown",
   "metadata": {},
   "source": [
    "## Merging Datasets"
   ]
  },
  {
   "cell_type": "code",
   "execution_count": 48,
   "metadata": {
    "execution": {
     "iopub.execute_input": "2023-02-23T13:38:51.293762Z",
     "iopub.status.busy": "2023-02-23T13:38:51.29352Z",
     "iopub.status.idle": "2023-02-23T13:38:51.314887Z",
     "shell.execute_reply": "2023-02-23T13:38:51.313907Z",
     "shell.execute_reply.started": "2023-02-23T13:38:51.293734Z"
    }
   },
   "outputs": [
    {
     "data": {
      "text/plain": [
       "(4809, 23)"
      ]
     },
     "execution_count": 48,
     "metadata": {},
     "output_type": "execute_result"
    }
   ],
   "source": [
    "movies=movies.merge(credits, on='title')\n",
    "movies.shape"
   ]
  },
  {
   "cell_type": "code",
   "execution_count": 49,
   "metadata": {
    "execution": {
     "iopub.execute_input": "2023-02-23T13:38:51.316308Z",
     "iopub.status.busy": "2023-02-23T13:38:51.316033Z",
     "iopub.status.idle": "2023-02-23T13:38:51.341268Z",
     "shell.execute_reply": "2023-02-23T13:38:51.340452Z",
     "shell.execute_reply.started": "2023-02-23T13:38:51.316285Z"
    }
   },
   "outputs": [
    {
     "data": {
      "text/html": [
       "<div>\n",
       "<style scoped>\n",
       "    .dataframe tbody tr th:only-of-type {\n",
       "        vertical-align: middle;\n",
       "    }\n",
       "\n",
       "    .dataframe tbody tr th {\n",
       "        vertical-align: top;\n",
       "    }\n",
       "\n",
       "    .dataframe thead th {\n",
       "        text-align: right;\n",
       "    }\n",
       "</style>\n",
       "<table border=\"1\" class=\"dataframe\">\n",
       "  <thead>\n",
       "    <tr style=\"text-align: right;\">\n",
       "      <th></th>\n",
       "      <th>budget</th>\n",
       "      <th>genres</th>\n",
       "      <th>homepage</th>\n",
       "      <th>id</th>\n",
       "      <th>keywords</th>\n",
       "      <th>original_language</th>\n",
       "      <th>original_title</th>\n",
       "      <th>overview</th>\n",
       "      <th>popularity</th>\n",
       "      <th>production_companies</th>\n",
       "      <th>...</th>\n",
       "      <th>runtime</th>\n",
       "      <th>spoken_languages</th>\n",
       "      <th>status</th>\n",
       "      <th>tagline</th>\n",
       "      <th>title</th>\n",
       "      <th>vote_average</th>\n",
       "      <th>vote_count</th>\n",
       "      <th>movie_id</th>\n",
       "      <th>cast</th>\n",
       "      <th>crew</th>\n",
       "    </tr>\n",
       "  </thead>\n",
       "  <tbody>\n",
       "    <tr>\n",
       "      <th>0</th>\n",
       "      <td>237000000</td>\n",
       "      <td>[{\"id\": 28, \"name\": \"Action\"}, {\"id\": 12, \"nam...</td>\n",
       "      <td>http://www.avatarmovie.com/</td>\n",
       "      <td>19995</td>\n",
       "      <td>[{\"id\": 1463, \"name\": \"culture clash\"}, {\"id\":...</td>\n",
       "      <td>en</td>\n",
       "      <td>Avatar</td>\n",
       "      <td>In the 22nd century, a paraplegic Marine is di...</td>\n",
       "      <td>150.437577</td>\n",
       "      <td>[{\"name\": \"Ingenious Film Partners\", \"id\": 289...</td>\n",
       "      <td>...</td>\n",
       "      <td>162.0</td>\n",
       "      <td>[{\"iso_639_1\": \"en\", \"name\": \"English\"}, {\"iso...</td>\n",
       "      <td>Released</td>\n",
       "      <td>Enter the World of Pandora.</td>\n",
       "      <td>Avatar</td>\n",
       "      <td>7.2</td>\n",
       "      <td>11800</td>\n",
       "      <td>19995</td>\n",
       "      <td>[{\"cast_id\": 242, \"character\": \"Jake Sully\", \"...</td>\n",
       "      <td>[{\"credit_id\": \"52fe48009251416c750aca23\", \"de...</td>\n",
       "    </tr>\n",
       "    <tr>\n",
       "      <th>1</th>\n",
       "      <td>300000000</td>\n",
       "      <td>[{\"id\": 12, \"name\": \"Adventure\"}, {\"id\": 14, \"...</td>\n",
       "      <td>http://disney.go.com/disneypictures/pirates/</td>\n",
       "      <td>285</td>\n",
       "      <td>[{\"id\": 270, \"name\": \"ocean\"}, {\"id\": 726, \"na...</td>\n",
       "      <td>en</td>\n",
       "      <td>Pirates of the Caribbean: At World's End</td>\n",
       "      <td>Captain Barbossa, long believed to be dead, ha...</td>\n",
       "      <td>139.082615</td>\n",
       "      <td>[{\"name\": \"Walt Disney Pictures\", \"id\": 2}, {\"...</td>\n",
       "      <td>...</td>\n",
       "      <td>169.0</td>\n",
       "      <td>[{\"iso_639_1\": \"en\", \"name\": \"English\"}]</td>\n",
       "      <td>Released</td>\n",
       "      <td>At the end of the world, the adventure begins.</td>\n",
       "      <td>Pirates of the Caribbean: At World's End</td>\n",
       "      <td>6.9</td>\n",
       "      <td>4500</td>\n",
       "      <td>285</td>\n",
       "      <td>[{\"cast_id\": 4, \"character\": \"Captain Jack Spa...</td>\n",
       "      <td>[{\"credit_id\": \"52fe4232c3a36847f800b579\", \"de...</td>\n",
       "    </tr>\n",
       "    <tr>\n",
       "      <th>2</th>\n",
       "      <td>245000000</td>\n",
       "      <td>[{\"id\": 28, \"name\": \"Action\"}, {\"id\": 12, \"nam...</td>\n",
       "      <td>http://www.sonypictures.com/movies/spectre/</td>\n",
       "      <td>206647</td>\n",
       "      <td>[{\"id\": 470, \"name\": \"spy\"}, {\"id\": 818, \"name...</td>\n",
       "      <td>en</td>\n",
       "      <td>Spectre</td>\n",
       "      <td>A cryptic message from Bond’s past sends him o...</td>\n",
       "      <td>107.376788</td>\n",
       "      <td>[{\"name\": \"Columbia Pictures\", \"id\": 5}, {\"nam...</td>\n",
       "      <td>...</td>\n",
       "      <td>148.0</td>\n",
       "      <td>[{\"iso_639_1\": \"fr\", \"name\": \"Fran\\u00e7ais\"},...</td>\n",
       "      <td>Released</td>\n",
       "      <td>A Plan No One Escapes</td>\n",
       "      <td>Spectre</td>\n",
       "      <td>6.3</td>\n",
       "      <td>4466</td>\n",
       "      <td>206647</td>\n",
       "      <td>[{\"cast_id\": 1, \"character\": \"James Bond\", \"cr...</td>\n",
       "      <td>[{\"credit_id\": \"54805967c3a36829b5002c41\", \"de...</td>\n",
       "    </tr>\n",
       "    <tr>\n",
       "      <th>3</th>\n",
       "      <td>250000000</td>\n",
       "      <td>[{\"id\": 28, \"name\": \"Action\"}, {\"id\": 80, \"nam...</td>\n",
       "      <td>http://www.thedarkknightrises.com/</td>\n",
       "      <td>49026</td>\n",
       "      <td>[{\"id\": 849, \"name\": \"dc comics\"}, {\"id\": 853,...</td>\n",
       "      <td>en</td>\n",
       "      <td>The Dark Knight Rises</td>\n",
       "      <td>Following the death of District Attorney Harve...</td>\n",
       "      <td>112.312950</td>\n",
       "      <td>[{\"name\": \"Legendary Pictures\", \"id\": 923}, {\"...</td>\n",
       "      <td>...</td>\n",
       "      <td>165.0</td>\n",
       "      <td>[{\"iso_639_1\": \"en\", \"name\": \"English\"}]</td>\n",
       "      <td>Released</td>\n",
       "      <td>The Legend Ends</td>\n",
       "      <td>The Dark Knight Rises</td>\n",
       "      <td>7.6</td>\n",
       "      <td>9106</td>\n",
       "      <td>49026</td>\n",
       "      <td>[{\"cast_id\": 2, \"character\": \"Bruce Wayne / Ba...</td>\n",
       "      <td>[{\"credit_id\": \"52fe4781c3a36847f81398c3\", \"de...</td>\n",
       "    </tr>\n",
       "    <tr>\n",
       "      <th>4</th>\n",
       "      <td>260000000</td>\n",
       "      <td>[{\"id\": 28, \"name\": \"Action\"}, {\"id\": 12, \"nam...</td>\n",
       "      <td>http://movies.disney.com/john-carter</td>\n",
       "      <td>49529</td>\n",
       "      <td>[{\"id\": 818, \"name\": \"based on novel\"}, {\"id\":...</td>\n",
       "      <td>en</td>\n",
       "      <td>John Carter</td>\n",
       "      <td>John Carter is a war-weary, former military ca...</td>\n",
       "      <td>43.926995</td>\n",
       "      <td>[{\"name\": \"Walt Disney Pictures\", \"id\": 2}]</td>\n",
       "      <td>...</td>\n",
       "      <td>132.0</td>\n",
       "      <td>[{\"iso_639_1\": \"en\", \"name\": \"English\"}]</td>\n",
       "      <td>Released</td>\n",
       "      <td>Lost in our world, found in another.</td>\n",
       "      <td>John Carter</td>\n",
       "      <td>6.1</td>\n",
       "      <td>2124</td>\n",
       "      <td>49529</td>\n",
       "      <td>[{\"cast_id\": 5, \"character\": \"John Carter\", \"c...</td>\n",
       "      <td>[{\"credit_id\": \"52fe479ac3a36847f813eaa3\", \"de...</td>\n",
       "    </tr>\n",
       "  </tbody>\n",
       "</table>\n",
       "<p>5 rows × 23 columns</p>\n",
       "</div>"
      ],
      "text/plain": [
       "      budget                                             genres  \\\n",
       "0  237000000  [{\"id\": 28, \"name\": \"Action\"}, {\"id\": 12, \"nam...   \n",
       "1  300000000  [{\"id\": 12, \"name\": \"Adventure\"}, {\"id\": 14, \"...   \n",
       "2  245000000  [{\"id\": 28, \"name\": \"Action\"}, {\"id\": 12, \"nam...   \n",
       "3  250000000  [{\"id\": 28, \"name\": \"Action\"}, {\"id\": 80, \"nam...   \n",
       "4  260000000  [{\"id\": 28, \"name\": \"Action\"}, {\"id\": 12, \"nam...   \n",
       "\n",
       "                                       homepage      id  \\\n",
       "0                   http://www.avatarmovie.com/   19995   \n",
       "1  http://disney.go.com/disneypictures/pirates/     285   \n",
       "2   http://www.sonypictures.com/movies/spectre/  206647   \n",
       "3            http://www.thedarkknightrises.com/   49026   \n",
       "4          http://movies.disney.com/john-carter   49529   \n",
       "\n",
       "                                            keywords original_language  \\\n",
       "0  [{\"id\": 1463, \"name\": \"culture clash\"}, {\"id\":...                en   \n",
       "1  [{\"id\": 270, \"name\": \"ocean\"}, {\"id\": 726, \"na...                en   \n",
       "2  [{\"id\": 470, \"name\": \"spy\"}, {\"id\": 818, \"name...                en   \n",
       "3  [{\"id\": 849, \"name\": \"dc comics\"}, {\"id\": 853,...                en   \n",
       "4  [{\"id\": 818, \"name\": \"based on novel\"}, {\"id\":...                en   \n",
       "\n",
       "                             original_title  \\\n",
       "0                                    Avatar   \n",
       "1  Pirates of the Caribbean: At World's End   \n",
       "2                                   Spectre   \n",
       "3                     The Dark Knight Rises   \n",
       "4                               John Carter   \n",
       "\n",
       "                                            overview  popularity  \\\n",
       "0  In the 22nd century, a paraplegic Marine is di...  150.437577   \n",
       "1  Captain Barbossa, long believed to be dead, ha...  139.082615   \n",
       "2  A cryptic message from Bond’s past sends him o...  107.376788   \n",
       "3  Following the death of District Attorney Harve...  112.312950   \n",
       "4  John Carter is a war-weary, former military ca...   43.926995   \n",
       "\n",
       "                                production_companies  ... runtime  \\\n",
       "0  [{\"name\": \"Ingenious Film Partners\", \"id\": 289...  ...   162.0   \n",
       "1  [{\"name\": \"Walt Disney Pictures\", \"id\": 2}, {\"...  ...   169.0   \n",
       "2  [{\"name\": \"Columbia Pictures\", \"id\": 5}, {\"nam...  ...   148.0   \n",
       "3  [{\"name\": \"Legendary Pictures\", \"id\": 923}, {\"...  ...   165.0   \n",
       "4        [{\"name\": \"Walt Disney Pictures\", \"id\": 2}]  ...   132.0   \n",
       "\n",
       "                                    spoken_languages    status  \\\n",
       "0  [{\"iso_639_1\": \"en\", \"name\": \"English\"}, {\"iso...  Released   \n",
       "1           [{\"iso_639_1\": \"en\", \"name\": \"English\"}]  Released   \n",
       "2  [{\"iso_639_1\": \"fr\", \"name\": \"Fran\\u00e7ais\"},...  Released   \n",
       "3           [{\"iso_639_1\": \"en\", \"name\": \"English\"}]  Released   \n",
       "4           [{\"iso_639_1\": \"en\", \"name\": \"English\"}]  Released   \n",
       "\n",
       "                                          tagline  \\\n",
       "0                     Enter the World of Pandora.   \n",
       "1  At the end of the world, the adventure begins.   \n",
       "2                           A Plan No One Escapes   \n",
       "3                                 The Legend Ends   \n",
       "4            Lost in our world, found in another.   \n",
       "\n",
       "                                      title vote_average vote_count movie_id  \\\n",
       "0                                    Avatar          7.2      11800    19995   \n",
       "1  Pirates of the Caribbean: At World's End          6.9       4500      285   \n",
       "2                                   Spectre          6.3       4466   206647   \n",
       "3                     The Dark Knight Rises          7.6       9106    49026   \n",
       "4                               John Carter          6.1       2124    49529   \n",
       "\n",
       "                                                cast  \\\n",
       "0  [{\"cast_id\": 242, \"character\": \"Jake Sully\", \"...   \n",
       "1  [{\"cast_id\": 4, \"character\": \"Captain Jack Spa...   \n",
       "2  [{\"cast_id\": 1, \"character\": \"James Bond\", \"cr...   \n",
       "3  [{\"cast_id\": 2, \"character\": \"Bruce Wayne / Ba...   \n",
       "4  [{\"cast_id\": 5, \"character\": \"John Carter\", \"c...   \n",
       "\n",
       "                                                crew  \n",
       "0  [{\"credit_id\": \"52fe48009251416c750aca23\", \"de...  \n",
       "1  [{\"credit_id\": \"52fe4232c3a36847f800b579\", \"de...  \n",
       "2  [{\"credit_id\": \"54805967c3a36829b5002c41\", \"de...  \n",
       "3  [{\"credit_id\": \"52fe4781c3a36847f81398c3\", \"de...  \n",
       "4  [{\"credit_id\": \"52fe479ac3a36847f813eaa3\", \"de...  \n",
       "\n",
       "[5 rows x 23 columns]"
      ]
     },
     "execution_count": 49,
     "metadata": {},
     "output_type": "execute_result"
    }
   ],
   "source": [
    "movies.head()"
   ]
  },
  {
   "cell_type": "markdown",
   "metadata": {},
   "source": [
    "# Dataset overview"
   ]
  },
  {
   "cell_type": "code",
   "execution_count": 50,
   "metadata": {
    "execution": {
     "iopub.execute_input": "2023-02-23T13:38:51.34306Z",
     "iopub.status.busy": "2023-02-23T13:38:51.342306Z",
     "iopub.status.idle": "2023-02-23T13:38:51.362576Z",
     "shell.execute_reply": "2023-02-23T13:38:51.361982Z",
     "shell.execute_reply.started": "2023-02-23T13:38:51.34303Z"
    }
   },
   "outputs": [
    {
     "name": "stdout",
     "output_type": "stream",
     "text": [
      "Number of records: 4809\n",
      "_ _ _ _ _\n",
      "Number of features: 23\n",
      "_ _ _ _ _\n",
      "<class 'pandas.core.frame.DataFrame'>\n",
      "Int64Index: 4809 entries, 0 to 4808\n",
      "Data columns (total 23 columns):\n",
      " #   Column                Non-Null Count  Dtype  \n",
      "---  ------                --------------  -----  \n",
      " 0   budget                4809 non-null   int64  \n",
      " 1   genres                4809 non-null   object \n",
      " 2   homepage              1713 non-null   object \n",
      " 3   id                    4809 non-null   int64  \n",
      " 4   keywords              4809 non-null   object \n",
      " 5   original_language     4809 non-null   object \n",
      " 6   original_title        4809 non-null   object \n",
      " 7   overview              4806 non-null   object \n",
      " 8   popularity            4809 non-null   float64\n",
      " 9   production_companies  4809 non-null   object \n",
      " 10  production_countries  4809 non-null   object \n",
      " 11  release_date          4808 non-null   object \n",
      " 12  revenue               4809 non-null   int64  \n",
      " 13  runtime               4807 non-null   float64\n",
      " 14  spoken_languages      4809 non-null   object \n",
      " 15  status                4809 non-null   object \n",
      " 16  tagline               3965 non-null   object \n",
      " 17  title                 4809 non-null   object \n",
      " 18  vote_average          4809 non-null   float64\n",
      " 19  vote_count            4809 non-null   int64  \n",
      " 20  movie_id              4809 non-null   int64  \n",
      " 21  cast                  4809 non-null   object \n",
      " 22  crew                  4809 non-null   object \n",
      "dtypes: float64(3), int64(5), object(15)\n",
      "memory usage: 901.7+ KB\n",
      "None\n"
     ]
    }
   ],
   "source": [
    "print('Number of records:',movies.shape[0])\n",
    "print('_ _ _ _ _')\n",
    "print('Number of features:',movies.shape[1])\n",
    "print('_ _ _ _ _')\n",
    "print(movies.info())"
   ]
  },
  {
   "cell_type": "code",
   "execution_count": 51,
   "metadata": {
    "execution": {
     "iopub.execute_input": "2023-02-23T13:38:51.364307Z",
     "iopub.status.busy": "2023-02-23T13:38:51.363512Z",
     "iopub.status.idle": "2023-02-23T13:38:51.39749Z",
     "shell.execute_reply": "2023-02-23T13:38:51.396525Z",
     "shell.execute_reply.started": "2023-02-23T13:38:51.364275Z"
    }
   },
   "outputs": [
    {
     "data": {
      "text/html": [
       "<div>\n",
       "<style scoped>\n",
       "    .dataframe tbody tr th:only-of-type {\n",
       "        vertical-align: middle;\n",
       "    }\n",
       "\n",
       "    .dataframe tbody tr th {\n",
       "        vertical-align: top;\n",
       "    }\n",
       "\n",
       "    .dataframe thead th {\n",
       "        text-align: right;\n",
       "    }\n",
       "</style>\n",
       "<table border=\"1\" class=\"dataframe\">\n",
       "  <thead>\n",
       "    <tr style=\"text-align: right;\">\n",
       "      <th></th>\n",
       "      <th>count</th>\n",
       "      <th>mean</th>\n",
       "      <th>std</th>\n",
       "      <th>min</th>\n",
       "      <th>25%</th>\n",
       "      <th>50%</th>\n",
       "      <th>75%</th>\n",
       "      <th>max</th>\n",
       "    </tr>\n",
       "  </thead>\n",
       "  <tbody>\n",
       "    <tr>\n",
       "      <th>budget</th>\n",
       "      <td>4809.0</td>\n",
       "      <td>2.902780e+07</td>\n",
       "      <td>4.070473e+07</td>\n",
       "      <td>0.0</td>\n",
       "      <td>780000.00000</td>\n",
       "      <td>1.500000e+07</td>\n",
       "      <td>4.000000e+07</td>\n",
       "      <td>3.800000e+08</td>\n",
       "    </tr>\n",
       "    <tr>\n",
       "      <th>id</th>\n",
       "      <td>4809.0</td>\n",
       "      <td>5.712057e+04</td>\n",
       "      <td>8.865337e+04</td>\n",
       "      <td>5.0</td>\n",
       "      <td>9012.00000</td>\n",
       "      <td>1.462400e+04</td>\n",
       "      <td>5.859500e+04</td>\n",
       "      <td>4.594880e+05</td>\n",
       "    </tr>\n",
       "    <tr>\n",
       "      <th>popularity</th>\n",
       "      <td>4809.0</td>\n",
       "      <td>2.149166e+01</td>\n",
       "      <td>3.180337e+01</td>\n",
       "      <td>0.0</td>\n",
       "      <td>4.66723</td>\n",
       "      <td>1.292159e+01</td>\n",
       "      <td>2.835053e+01</td>\n",
       "      <td>8.755813e+02</td>\n",
       "    </tr>\n",
       "    <tr>\n",
       "      <th>revenue</th>\n",
       "      <td>4809.0</td>\n",
       "      <td>8.227511e+07</td>\n",
       "      <td>1.628379e+08</td>\n",
       "      <td>0.0</td>\n",
       "      <td>0.00000</td>\n",
       "      <td>1.917000e+07</td>\n",
       "      <td>9.291317e+07</td>\n",
       "      <td>2.787965e+09</td>\n",
       "    </tr>\n",
       "    <tr>\n",
       "      <th>runtime</th>\n",
       "      <td>4807.0</td>\n",
       "      <td>1.068823e+02</td>\n",
       "      <td>2.260254e+01</td>\n",
       "      <td>0.0</td>\n",
       "      <td>94.00000</td>\n",
       "      <td>1.030000e+02</td>\n",
       "      <td>1.180000e+02</td>\n",
       "      <td>3.380000e+02</td>\n",
       "    </tr>\n",
       "    <tr>\n",
       "      <th>vote_average</th>\n",
       "      <td>4809.0</td>\n",
       "      <td>6.092514e+00</td>\n",
       "      <td>1.193989e+00</td>\n",
       "      <td>0.0</td>\n",
       "      <td>5.60000</td>\n",
       "      <td>6.200000e+00</td>\n",
       "      <td>6.800000e+00</td>\n",
       "      <td>1.000000e+01</td>\n",
       "    </tr>\n",
       "    <tr>\n",
       "      <th>vote_count</th>\n",
       "      <td>4809.0</td>\n",
       "      <td>6.903317e+02</td>\n",
       "      <td>1.234187e+03</td>\n",
       "      <td>0.0</td>\n",
       "      <td>54.00000</td>\n",
       "      <td>2.350000e+02</td>\n",
       "      <td>7.370000e+02</td>\n",
       "      <td>1.375200e+04</td>\n",
       "    </tr>\n",
       "    <tr>\n",
       "      <th>movie_id</th>\n",
       "      <td>4809.0</td>\n",
       "      <td>5.712057e+04</td>\n",
       "      <td>8.865337e+04</td>\n",
       "      <td>5.0</td>\n",
       "      <td>9012.00000</td>\n",
       "      <td>1.462400e+04</td>\n",
       "      <td>5.859500e+04</td>\n",
       "      <td>4.594880e+05</td>\n",
       "    </tr>\n",
       "  </tbody>\n",
       "</table>\n",
       "</div>"
      ],
      "text/plain": [
       "               count          mean           std  min           25%  \\\n",
       "budget        4809.0  2.902780e+07  4.070473e+07  0.0  780000.00000   \n",
       "id            4809.0  5.712057e+04  8.865337e+04  5.0    9012.00000   \n",
       "popularity    4809.0  2.149166e+01  3.180337e+01  0.0       4.66723   \n",
       "revenue       4809.0  8.227511e+07  1.628379e+08  0.0       0.00000   \n",
       "runtime       4807.0  1.068823e+02  2.260254e+01  0.0      94.00000   \n",
       "vote_average  4809.0  6.092514e+00  1.193989e+00  0.0       5.60000   \n",
       "vote_count    4809.0  6.903317e+02  1.234187e+03  0.0      54.00000   \n",
       "movie_id      4809.0  5.712057e+04  8.865337e+04  5.0    9012.00000   \n",
       "\n",
       "                       50%           75%           max  \n",
       "budget        1.500000e+07  4.000000e+07  3.800000e+08  \n",
       "id            1.462400e+04  5.859500e+04  4.594880e+05  \n",
       "popularity    1.292159e+01  2.835053e+01  8.755813e+02  \n",
       "revenue       1.917000e+07  9.291317e+07  2.787965e+09  \n",
       "runtime       1.030000e+02  1.180000e+02  3.380000e+02  \n",
       "vote_average  6.200000e+00  6.800000e+00  1.000000e+01  \n",
       "vote_count    2.350000e+02  7.370000e+02  1.375200e+04  \n",
       "movie_id      1.462400e+04  5.859500e+04  4.594880e+05  "
      ]
     },
     "execution_count": 51,
     "metadata": {},
     "output_type": "execute_result"
    }
   ],
   "source": [
    "movies.describe().transpose()"
   ]
  },
  {
   "cell_type": "markdown",
   "metadata": {},
   "source": [
    "# Truncated Dataframe\n",
    "A content-based recommendation system like the one we're building requires features that will help us create tags to compare films\n",
    "with. Eg: movie budget is not important for a recommender system, because it is not a given that if a person likes Interstellar, that they\n",
    "will also like other high budget movies like Marvel movies.\n",
    "\n",
    "\n",
    "****COLUMNS TO BE KEPT****\n",
    "\n",
    "**title**\n",
    "\n",
    "**overview - for content based similarity**\n",
    "\n",
    "**genre**\n",
    "\n",
    "**keywords - basically tags to describe and recommend similar movies, this will be useful in creating our system.**\n",
    "\n",
    "**production_companies - some companies stick to producing certain types of movies, like Pixar or Marvel Studios.**\n",
    "\n",
    "**cast - we often recommend movies on the basis of actors**\n",
    "\n",
    "**crew - we often recommend movies based on directors, among other crew members**"
   ]
  },
  {
   "cell_type": "code",
   "execution_count": 52,
   "metadata": {
    "execution": {
     "iopub.execute_input": "2023-02-23T13:38:51.400529Z",
     "iopub.status.busy": "2023-02-23T13:38:51.400276Z",
     "iopub.status.idle": "2023-02-23T13:38:51.415976Z",
     "shell.execute_reply": "2023-02-23T13:38:51.414905Z",
     "shell.execute_reply.started": "2023-02-23T13:38:51.400506Z"
    }
   },
   "outputs": [
    {
     "data": {
      "text/html": [
       "<div>\n",
       "<style scoped>\n",
       "    .dataframe tbody tr th:only-of-type {\n",
       "        vertical-align: middle;\n",
       "    }\n",
       "\n",
       "    .dataframe tbody tr th {\n",
       "        vertical-align: top;\n",
       "    }\n",
       "\n",
       "    .dataframe thead th {\n",
       "        text-align: right;\n",
       "    }\n",
       "</style>\n",
       "<table border=\"1\" class=\"dataframe\">\n",
       "  <thead>\n",
       "    <tr style=\"text-align: right;\">\n",
       "      <th></th>\n",
       "      <th>movie_id</th>\n",
       "      <th>title</th>\n",
       "      <th>overview</th>\n",
       "      <th>genres</th>\n",
       "      <th>keywords</th>\n",
       "      <th>production_companies</th>\n",
       "      <th>cast</th>\n",
       "      <th>crew</th>\n",
       "    </tr>\n",
       "  </thead>\n",
       "  <tbody>\n",
       "    <tr>\n",
       "      <th>0</th>\n",
       "      <td>19995</td>\n",
       "      <td>Avatar</td>\n",
       "      <td>In the 22nd century, a paraplegic Marine is di...</td>\n",
       "      <td>[{\"id\": 28, \"name\": \"Action\"}, {\"id\": 12, \"nam...</td>\n",
       "      <td>[{\"id\": 1463, \"name\": \"culture clash\"}, {\"id\":...</td>\n",
       "      <td>[{\"name\": \"Ingenious Film Partners\", \"id\": 289...</td>\n",
       "      <td>[{\"cast_id\": 242, \"character\": \"Jake Sully\", \"...</td>\n",
       "      <td>[{\"credit_id\": \"52fe48009251416c750aca23\", \"de...</td>\n",
       "    </tr>\n",
       "    <tr>\n",
       "      <th>1</th>\n",
       "      <td>285</td>\n",
       "      <td>Pirates of the Caribbean: At World's End</td>\n",
       "      <td>Captain Barbossa, long believed to be dead, ha...</td>\n",
       "      <td>[{\"id\": 12, \"name\": \"Adventure\"}, {\"id\": 14, \"...</td>\n",
       "      <td>[{\"id\": 270, \"name\": \"ocean\"}, {\"id\": 726, \"na...</td>\n",
       "      <td>[{\"name\": \"Walt Disney Pictures\", \"id\": 2}, {\"...</td>\n",
       "      <td>[{\"cast_id\": 4, \"character\": \"Captain Jack Spa...</td>\n",
       "      <td>[{\"credit_id\": \"52fe4232c3a36847f800b579\", \"de...</td>\n",
       "    </tr>\n",
       "    <tr>\n",
       "      <th>2</th>\n",
       "      <td>206647</td>\n",
       "      <td>Spectre</td>\n",
       "      <td>A cryptic message from Bond’s past sends him o...</td>\n",
       "      <td>[{\"id\": 28, \"name\": \"Action\"}, {\"id\": 12, \"nam...</td>\n",
       "      <td>[{\"id\": 470, \"name\": \"spy\"}, {\"id\": 818, \"name...</td>\n",
       "      <td>[{\"name\": \"Columbia Pictures\", \"id\": 5}, {\"nam...</td>\n",
       "      <td>[{\"cast_id\": 1, \"character\": \"James Bond\", \"cr...</td>\n",
       "      <td>[{\"credit_id\": \"54805967c3a36829b5002c41\", \"de...</td>\n",
       "    </tr>\n",
       "    <tr>\n",
       "      <th>3</th>\n",
       "      <td>49026</td>\n",
       "      <td>The Dark Knight Rises</td>\n",
       "      <td>Following the death of District Attorney Harve...</td>\n",
       "      <td>[{\"id\": 28, \"name\": \"Action\"}, {\"id\": 80, \"nam...</td>\n",
       "      <td>[{\"id\": 849, \"name\": \"dc comics\"}, {\"id\": 853,...</td>\n",
       "      <td>[{\"name\": \"Legendary Pictures\", \"id\": 923}, {\"...</td>\n",
       "      <td>[{\"cast_id\": 2, \"character\": \"Bruce Wayne / Ba...</td>\n",
       "      <td>[{\"credit_id\": \"52fe4781c3a36847f81398c3\", \"de...</td>\n",
       "    </tr>\n",
       "    <tr>\n",
       "      <th>4</th>\n",
       "      <td>49529</td>\n",
       "      <td>John Carter</td>\n",
       "      <td>John Carter is a war-weary, former military ca...</td>\n",
       "      <td>[{\"id\": 28, \"name\": \"Action\"}, {\"id\": 12, \"nam...</td>\n",
       "      <td>[{\"id\": 818, \"name\": \"based on novel\"}, {\"id\":...</td>\n",
       "      <td>[{\"name\": \"Walt Disney Pictures\", \"id\": 2}]</td>\n",
       "      <td>[{\"cast_id\": 5, \"character\": \"John Carter\", \"c...</td>\n",
       "      <td>[{\"credit_id\": \"52fe479ac3a36847f813eaa3\", \"de...</td>\n",
       "    </tr>\n",
       "  </tbody>\n",
       "</table>\n",
       "</div>"
      ],
      "text/plain": [
       "   movie_id                                     title  \\\n",
       "0     19995                                    Avatar   \n",
       "1       285  Pirates of the Caribbean: At World's End   \n",
       "2    206647                                   Spectre   \n",
       "3     49026                     The Dark Knight Rises   \n",
       "4     49529                               John Carter   \n",
       "\n",
       "                                            overview  \\\n",
       "0  In the 22nd century, a paraplegic Marine is di...   \n",
       "1  Captain Barbossa, long believed to be dead, ha...   \n",
       "2  A cryptic message from Bond’s past sends him o...   \n",
       "3  Following the death of District Attorney Harve...   \n",
       "4  John Carter is a war-weary, former military ca...   \n",
       "\n",
       "                                              genres  \\\n",
       "0  [{\"id\": 28, \"name\": \"Action\"}, {\"id\": 12, \"nam...   \n",
       "1  [{\"id\": 12, \"name\": \"Adventure\"}, {\"id\": 14, \"...   \n",
       "2  [{\"id\": 28, \"name\": \"Action\"}, {\"id\": 12, \"nam...   \n",
       "3  [{\"id\": 28, \"name\": \"Action\"}, {\"id\": 80, \"nam...   \n",
       "4  [{\"id\": 28, \"name\": \"Action\"}, {\"id\": 12, \"nam...   \n",
       "\n",
       "                                            keywords  \\\n",
       "0  [{\"id\": 1463, \"name\": \"culture clash\"}, {\"id\":...   \n",
       "1  [{\"id\": 270, \"name\": \"ocean\"}, {\"id\": 726, \"na...   \n",
       "2  [{\"id\": 470, \"name\": \"spy\"}, {\"id\": 818, \"name...   \n",
       "3  [{\"id\": 849, \"name\": \"dc comics\"}, {\"id\": 853,...   \n",
       "4  [{\"id\": 818, \"name\": \"based on novel\"}, {\"id\":...   \n",
       "\n",
       "                                production_companies  \\\n",
       "0  [{\"name\": \"Ingenious Film Partners\", \"id\": 289...   \n",
       "1  [{\"name\": \"Walt Disney Pictures\", \"id\": 2}, {\"...   \n",
       "2  [{\"name\": \"Columbia Pictures\", \"id\": 5}, {\"nam...   \n",
       "3  [{\"name\": \"Legendary Pictures\", \"id\": 923}, {\"...   \n",
       "4        [{\"name\": \"Walt Disney Pictures\", \"id\": 2}]   \n",
       "\n",
       "                                                cast  \\\n",
       "0  [{\"cast_id\": 242, \"character\": \"Jake Sully\", \"...   \n",
       "1  [{\"cast_id\": 4, \"character\": \"Captain Jack Spa...   \n",
       "2  [{\"cast_id\": 1, \"character\": \"James Bond\", \"cr...   \n",
       "3  [{\"cast_id\": 2, \"character\": \"Bruce Wayne / Ba...   \n",
       "4  [{\"cast_id\": 5, \"character\": \"John Carter\", \"c...   \n",
       "\n",
       "                                                crew  \n",
       "0  [{\"credit_id\": \"52fe48009251416c750aca23\", \"de...  \n",
       "1  [{\"credit_id\": \"52fe4232c3a36847f800b579\", \"de...  \n",
       "2  [{\"credit_id\": \"54805967c3a36829b5002c41\", \"de...  \n",
       "3  [{\"credit_id\": \"52fe4781c3a36847f81398c3\", \"de...  \n",
       "4  [{\"credit_id\": \"52fe479ac3a36847f813eaa3\", \"de...  "
      ]
     },
     "execution_count": 52,
     "metadata": {},
     "output_type": "execute_result"
    }
   ],
   "source": [
    "movies=movies[['movie_id','title','overview','genres','keywords','production_companies','cast','crew']]\n",
    "movies.head()"
   ]
  },
  {
   "cell_type": "code",
   "execution_count": 53,
   "metadata": {
    "execution": {
     "iopub.execute_input": "2023-02-23T13:38:51.417884Z",
     "iopub.status.busy": "2023-02-23T13:38:51.417562Z",
     "iopub.status.idle": "2023-02-23T13:38:51.425879Z",
     "shell.execute_reply": "2023-02-23T13:38:51.424926Z",
     "shell.execute_reply.started": "2023-02-23T13:38:51.417859Z"
    }
   },
   "outputs": [
    {
     "data": {
      "text/plain": [
       "(4809, 8)"
      ]
     },
     "execution_count": 53,
     "metadata": {},
     "output_type": "execute_result"
    }
   ],
   "source": [
    "movies.shape"
   ]
  },
  {
   "cell_type": "markdown",
   "metadata": {},
   "source": [
    "## Preprocessing our Data\n",
    "\n",
    "Now we will preprocess our data by checking for null values as well as duplicated variables. We can also see the from the 'genres'\n",
    "column through the 'crew' column, the names of those features, which we need for creating tags, are tucked away inside lists of\n",
    "dictionaries. We will parse these columns to retrieve the names we are looking for.\n"
   ]
  },
  {
   "cell_type": "code",
   "execution_count": 54,
   "metadata": {
    "execution": {
     "iopub.execute_input": "2023-02-23T13:38:51.430724Z",
     "iopub.status.busy": "2023-02-23T13:38:51.43046Z",
     "iopub.status.idle": "2023-02-23T13:38:51.443055Z",
     "shell.execute_reply": "2023-02-23T13:38:51.44224Z",
     "shell.execute_reply.started": "2023-02-23T13:38:51.430702Z"
    }
   },
   "outputs": [
    {
     "data": {
      "text/plain": [
       "movie_id                0\n",
       "title                   0\n",
       "overview                3\n",
       "genres                  0\n",
       "keywords                0\n",
       "production_companies    0\n",
       "cast                    0\n",
       "crew                    0\n",
       "dtype: int64"
      ]
     },
     "execution_count": 54,
     "metadata": {},
     "output_type": "execute_result"
    }
   ],
   "source": [
    "movies.isnull().sum()"
   ]
  },
  {
   "cell_type": "code",
   "execution_count": 55,
   "metadata": {
    "execution": {
     "iopub.execute_input": "2023-02-23T13:38:51.444324Z",
     "iopub.status.busy": "2023-02-23T13:38:51.443958Z",
     "iopub.status.idle": "2023-02-23T13:38:51.455742Z",
     "shell.execute_reply": "2023-02-23T13:38:51.454784Z",
     "shell.execute_reply.started": "2023-02-23T13:38:51.444291Z"
    }
   },
   "outputs": [],
   "source": [
    "movies.dropna(inplace=True)"
   ]
  },
  {
   "cell_type": "code",
   "execution_count": 56,
   "metadata": {
    "execution": {
     "iopub.execute_input": "2023-02-23T13:38:51.457276Z",
     "iopub.status.busy": "2023-02-23T13:38:51.456993Z",
     "iopub.status.idle": "2023-02-23T13:38:51.547614Z",
     "shell.execute_reply": "2023-02-23T13:38:51.546762Z",
     "shell.execute_reply.started": "2023-02-23T13:38:51.457252Z"
    }
   },
   "outputs": [
    {
     "data": {
      "text/plain": [
       "0"
      ]
     },
     "execution_count": 56,
     "metadata": {},
     "output_type": "execute_result"
    }
   ],
   "source": [
    "movies.duplicated().sum()"
   ]
  },
  {
   "cell_type": "code",
   "execution_count": 57,
   "metadata": {
    "execution": {
     "iopub.execute_input": "2023-02-23T13:38:51.550753Z",
     "iopub.status.busy": "2023-02-23T13:38:51.550422Z",
     "iopub.status.idle": "2023-02-23T13:38:51.564127Z",
     "shell.execute_reply": "2023-02-23T13:38:51.563263Z",
     "shell.execute_reply.started": "2023-02-23T13:38:51.550694Z"
    }
   },
   "outputs": [
    {
     "name": "stdout",
     "output_type": "stream",
     "text": [
      "<class 'pandas.core.frame.DataFrame'>\n",
      "Int64Index: 4806 entries, 0 to 4808\n",
      "Data columns (total 8 columns):\n",
      " #   Column                Non-Null Count  Dtype \n",
      "---  ------                --------------  ----- \n",
      " 0   movie_id              4806 non-null   int64 \n",
      " 1   title                 4806 non-null   object\n",
      " 2   overview              4806 non-null   object\n",
      " 3   genres                4806 non-null   object\n",
      " 4   keywords              4806 non-null   object\n",
      " 5   production_companies  4806 non-null   object\n",
      " 6   cast                  4806 non-null   object\n",
      " 7   crew                  4806 non-null   object\n",
      "dtypes: int64(1), object(7)\n",
      "memory usage: 337.9+ KB\n"
     ]
    }
   ],
   "source": [
    "movies.info()"
   ]
  },
  {
   "cell_type": "markdown",
   "metadata": {},
   "source": [
    "## Column conversion\n",
    "\n",
    "We will use the literal_eval function from the ast (Abstract Syntax Tree) library to create functions to parse through the necessary\n",
    "columns in order to retrieve the necessary attributes for our system.\n",
    "\n",
    "> The ast library provides a way to parse and analyze the code written in Python. It can be used to transform code, check\n",
    "for errors, or extract information about the code.\n",
    "\n",
    "> The literal_eval function is a function that evaluates a string containing a Python literal (e.g., a string, tuple, list,\n",
    "dictionary, number, or boolean value) and returns the corresponding Python object\n"
   ]
  },
  {
   "cell_type": "markdown",
   "metadata": {},
   "source": [
    "## Genres and Keywords\n",
    "\n",
    "An exapmle of what genres look like\n"
   ]
  },
  {
   "cell_type": "code",
   "execution_count": 58,
   "metadata": {
    "execution": {
     "iopub.execute_input": "2023-02-23T13:38:51.566528Z",
     "iopub.status.busy": "2023-02-23T13:38:51.565785Z",
     "iopub.status.idle": "2023-02-23T13:38:51.572581Z",
     "shell.execute_reply": "2023-02-23T13:38:51.571734Z",
     "shell.execute_reply.started": "2023-02-23T13:38:51.56649Z"
    }
   },
   "outputs": [
    {
     "data": {
      "text/plain": [
       "'[{\"id\": 28, \"name\": \"Action\"}, {\"id\": 12, \"name\": \"Adventure\"}, {\"id\": 14, \"name\": \"Fantasy\"}, {\"id\": 878, \"name\": \"Science Fiction\"}]'"
      ]
     },
     "execution_count": 58,
     "metadata": {},
     "output_type": "execute_result"
    }
   ],
   "source": [
    "movies['genres'][0]"
   ]
  },
  {
   "cell_type": "markdown",
   "metadata": {},
   "source": [
    "Now to get the genres name and keywords..."
   ]
  },
  {
   "cell_type": "code",
   "execution_count": 59,
   "metadata": {
    "execution": {
     "iopub.execute_input": "2023-02-23T13:38:51.574103Z",
     "iopub.status.busy": "2023-02-23T13:38:51.573748Z",
     "iopub.status.idle": "2023-02-23T13:38:51.581219Z",
     "shell.execute_reply": "2023-02-23T13:38:51.580344Z",
     "shell.execute_reply.started": "2023-02-23T13:38:51.574046Z"
    }
   },
   "outputs": [],
   "source": [
    "def convert(obj):\n",
    "    li=[]\n",
    "    for i in ast.literal_eval(obj):\n",
    "        li.append(i['name'])\n",
    "    return li"
   ]
  },
  {
   "cell_type": "code",
   "execution_count": 60,
   "metadata": {
    "execution": {
     "iopub.execute_input": "2023-02-23T13:38:51.582377Z",
     "iopub.status.busy": "2023-02-23T13:38:51.582114Z",
     "iopub.status.idle": "2023-02-23T13:38:51.728317Z",
     "shell.execute_reply": "2023-02-23T13:38:51.72736Z",
     "shell.execute_reply.started": "2023-02-23T13:38:51.582355Z"
    }
   },
   "outputs": [
    {
     "data": {
      "text/plain": [
       "0    [Action, Adventure, Fantasy, Science Fiction]\n",
       "1                     [Adventure, Fantasy, Action]\n",
       "2                       [Action, Adventure, Crime]\n",
       "3                 [Action, Crime, Drama, Thriller]\n",
       "4             [Action, Adventure, Science Fiction]\n",
       "5                     [Fantasy, Action, Adventure]\n",
       "Name: genres, dtype: object"
      ]
     },
     "execution_count": 60,
     "metadata": {},
     "output_type": "execute_result"
    }
   ],
   "source": [
    "movies['genres']=movies['genres'].apply(convert)\n",
    "movies['genres'][0:6]"
   ]
  },
  {
   "cell_type": "code",
   "execution_count": 61,
   "metadata": {
    "execution": {
     "iopub.execute_input": "2023-02-23T13:38:51.729742Z",
     "iopub.status.busy": "2023-02-23T13:38:51.729454Z",
     "iopub.status.idle": "2023-02-23T13:38:52.088945Z",
     "shell.execute_reply": "2023-02-23T13:38:52.088056Z",
     "shell.execute_reply.started": "2023-02-23T13:38:51.729717Z"
    }
   },
   "outputs": [
    {
     "data": {
      "text/plain": [
       "0    [culture clash, future, space war, space colon...\n",
       "1    [ocean, drug abuse, exotic island, east india ...\n",
       "2    [spy, based on novel, secret agent, sequel, mi...\n",
       "3    [dc comics, crime fighter, terrorist, secret i...\n",
       "4    [based on novel, mars, medallion, space travel...\n",
       "5    [dual identity, amnesia, sandstorm, love of on...\n",
       "Name: keywords, dtype: object"
      ]
     },
     "execution_count": 61,
     "metadata": {},
     "output_type": "execute_result"
    }
   ],
   "source": [
    "movies['keywords'] = movies['keywords'].apply(convert)\n",
    "movies['keywords'][0:6]"
   ]
  },
  {
   "cell_type": "code",
   "execution_count": 62,
   "metadata": {
    "execution": {
     "iopub.execute_input": "2023-02-23T13:38:52.091954Z",
     "iopub.status.busy": "2023-02-23T13:38:52.091684Z",
     "iopub.status.idle": "2023-02-23T13:38:52.108618Z",
     "shell.execute_reply": "2023-02-23T13:38:52.107556Z",
     "shell.execute_reply.started": "2023-02-23T13:38:52.091929Z"
    }
   },
   "outputs": [
    {
     "data": {
      "text/html": [
       "<div>\n",
       "<style scoped>\n",
       "    .dataframe tbody tr th:only-of-type {\n",
       "        vertical-align: middle;\n",
       "    }\n",
       "\n",
       "    .dataframe tbody tr th {\n",
       "        vertical-align: top;\n",
       "    }\n",
       "\n",
       "    .dataframe thead th {\n",
       "        text-align: right;\n",
       "    }\n",
       "</style>\n",
       "<table border=\"1\" class=\"dataframe\">\n",
       "  <thead>\n",
       "    <tr style=\"text-align: right;\">\n",
       "      <th></th>\n",
       "      <th>movie_id</th>\n",
       "      <th>title</th>\n",
       "      <th>overview</th>\n",
       "      <th>genres</th>\n",
       "      <th>keywords</th>\n",
       "      <th>production_companies</th>\n",
       "      <th>cast</th>\n",
       "      <th>crew</th>\n",
       "    </tr>\n",
       "  </thead>\n",
       "  <tbody>\n",
       "    <tr>\n",
       "      <th>0</th>\n",
       "      <td>19995</td>\n",
       "      <td>Avatar</td>\n",
       "      <td>In the 22nd century, a paraplegic Marine is di...</td>\n",
       "      <td>[Action, Adventure, Fantasy, Science Fiction]</td>\n",
       "      <td>[culture clash, future, space war, space colon...</td>\n",
       "      <td>[{\"name\": \"Ingenious Film Partners\", \"id\": 289...</td>\n",
       "      <td>[{\"cast_id\": 242, \"character\": \"Jake Sully\", \"...</td>\n",
       "      <td>[{\"credit_id\": \"52fe48009251416c750aca23\", \"de...</td>\n",
       "    </tr>\n",
       "    <tr>\n",
       "      <th>1</th>\n",
       "      <td>285</td>\n",
       "      <td>Pirates of the Caribbean: At World's End</td>\n",
       "      <td>Captain Barbossa, long believed to be dead, ha...</td>\n",
       "      <td>[Adventure, Fantasy, Action]</td>\n",
       "      <td>[ocean, drug abuse, exotic island, east india ...</td>\n",
       "      <td>[{\"name\": \"Walt Disney Pictures\", \"id\": 2}, {\"...</td>\n",
       "      <td>[{\"cast_id\": 4, \"character\": \"Captain Jack Spa...</td>\n",
       "      <td>[{\"credit_id\": \"52fe4232c3a36847f800b579\", \"de...</td>\n",
       "    </tr>\n",
       "    <tr>\n",
       "      <th>2</th>\n",
       "      <td>206647</td>\n",
       "      <td>Spectre</td>\n",
       "      <td>A cryptic message from Bond’s past sends him o...</td>\n",
       "      <td>[Action, Adventure, Crime]</td>\n",
       "      <td>[spy, based on novel, secret agent, sequel, mi...</td>\n",
       "      <td>[{\"name\": \"Columbia Pictures\", \"id\": 5}, {\"nam...</td>\n",
       "      <td>[{\"cast_id\": 1, \"character\": \"James Bond\", \"cr...</td>\n",
       "      <td>[{\"credit_id\": \"54805967c3a36829b5002c41\", \"de...</td>\n",
       "    </tr>\n",
       "    <tr>\n",
       "      <th>3</th>\n",
       "      <td>49026</td>\n",
       "      <td>The Dark Knight Rises</td>\n",
       "      <td>Following the death of District Attorney Harve...</td>\n",
       "      <td>[Action, Crime, Drama, Thriller]</td>\n",
       "      <td>[dc comics, crime fighter, terrorist, secret i...</td>\n",
       "      <td>[{\"name\": \"Legendary Pictures\", \"id\": 923}, {\"...</td>\n",
       "      <td>[{\"cast_id\": 2, \"character\": \"Bruce Wayne / Ba...</td>\n",
       "      <td>[{\"credit_id\": \"52fe4781c3a36847f81398c3\", \"de...</td>\n",
       "    </tr>\n",
       "    <tr>\n",
       "      <th>4</th>\n",
       "      <td>49529</td>\n",
       "      <td>John Carter</td>\n",
       "      <td>John Carter is a war-weary, former military ca...</td>\n",
       "      <td>[Action, Adventure, Science Fiction]</td>\n",
       "      <td>[based on novel, mars, medallion, space travel...</td>\n",
       "      <td>[{\"name\": \"Walt Disney Pictures\", \"id\": 2}]</td>\n",
       "      <td>[{\"cast_id\": 5, \"character\": \"John Carter\", \"c...</td>\n",
       "      <td>[{\"credit_id\": \"52fe479ac3a36847f813eaa3\", \"de...</td>\n",
       "    </tr>\n",
       "  </tbody>\n",
       "</table>\n",
       "</div>"
      ],
      "text/plain": [
       "   movie_id                                     title  \\\n",
       "0     19995                                    Avatar   \n",
       "1       285  Pirates of the Caribbean: At World's End   \n",
       "2    206647                                   Spectre   \n",
       "3     49026                     The Dark Knight Rises   \n",
       "4     49529                               John Carter   \n",
       "\n",
       "                                            overview  \\\n",
       "0  In the 22nd century, a paraplegic Marine is di...   \n",
       "1  Captain Barbossa, long believed to be dead, ha...   \n",
       "2  A cryptic message from Bond’s past sends him o...   \n",
       "3  Following the death of District Attorney Harve...   \n",
       "4  John Carter is a war-weary, former military ca...   \n",
       "\n",
       "                                          genres  \\\n",
       "0  [Action, Adventure, Fantasy, Science Fiction]   \n",
       "1                   [Adventure, Fantasy, Action]   \n",
       "2                     [Action, Adventure, Crime]   \n",
       "3               [Action, Crime, Drama, Thriller]   \n",
       "4           [Action, Adventure, Science Fiction]   \n",
       "\n",
       "                                            keywords  \\\n",
       "0  [culture clash, future, space war, space colon...   \n",
       "1  [ocean, drug abuse, exotic island, east india ...   \n",
       "2  [spy, based on novel, secret agent, sequel, mi...   \n",
       "3  [dc comics, crime fighter, terrorist, secret i...   \n",
       "4  [based on novel, mars, medallion, space travel...   \n",
       "\n",
       "                                production_companies  \\\n",
       "0  [{\"name\": \"Ingenious Film Partners\", \"id\": 289...   \n",
       "1  [{\"name\": \"Walt Disney Pictures\", \"id\": 2}, {\"...   \n",
       "2  [{\"name\": \"Columbia Pictures\", \"id\": 5}, {\"nam...   \n",
       "3  [{\"name\": \"Legendary Pictures\", \"id\": 923}, {\"...   \n",
       "4        [{\"name\": \"Walt Disney Pictures\", \"id\": 2}]   \n",
       "\n",
       "                                                cast  \\\n",
       "0  [{\"cast_id\": 242, \"character\": \"Jake Sully\", \"...   \n",
       "1  [{\"cast_id\": 4, \"character\": \"Captain Jack Spa...   \n",
       "2  [{\"cast_id\": 1, \"character\": \"James Bond\", \"cr...   \n",
       "3  [{\"cast_id\": 2, \"character\": \"Bruce Wayne / Ba...   \n",
       "4  [{\"cast_id\": 5, \"character\": \"John Carter\", \"c...   \n",
       "\n",
       "                                                crew  \n",
       "0  [{\"credit_id\": \"52fe48009251416c750aca23\", \"de...  \n",
       "1  [{\"credit_id\": \"52fe4232c3a36847f800b579\", \"de...  \n",
       "2  [{\"credit_id\": \"54805967c3a36829b5002c41\", \"de...  \n",
       "3  [{\"credit_id\": \"52fe4781c3a36847f81398c3\", \"de...  \n",
       "4  [{\"credit_id\": \"52fe479ac3a36847f813eaa3\", \"de...  "
      ]
     },
     "execution_count": 62,
     "metadata": {},
     "output_type": "execute_result"
    }
   ],
   "source": [
    "movies.head()"
   ]
  },
  {
   "cell_type": "markdown",
   "metadata": {},
   "source": [
    "## Production Companies"
   ]
  },
  {
   "cell_type": "code",
   "execution_count": 63,
   "metadata": {
    "execution": {
     "iopub.execute_input": "2023-02-23T13:38:52.109613Z",
     "iopub.status.busy": "2023-02-23T13:38:52.109358Z",
     "iopub.status.idle": "2023-02-23T13:38:52.117743Z",
     "shell.execute_reply": "2023-02-23T13:38:52.116855Z",
     "shell.execute_reply.started": "2023-02-23T13:38:52.109589Z"
    }
   },
   "outputs": [
    {
     "data": {
      "text/plain": [
       "'[{\"name\": \"Ingenious Film Partners\", \"id\": 289}, {\"name\": \"Twentieth Century Fox Film Corporation\", \"id\": 306}, {\"name\": \"Dune Entertainment\", \"id\": 444}, {\"name\": \"Lightstorm Entertainment\", \"id\": 574}]'"
      ]
     },
     "execution_count": 63,
     "metadata": {},
     "output_type": "execute_result"
    }
   ],
   "source": [
    "movies['production_companies'][0]"
   ]
  },
  {
   "cell_type": "code",
   "execution_count": 64,
   "metadata": {
    "execution": {
     "iopub.execute_input": "2023-02-23T13:38:52.119033Z",
     "iopub.status.busy": "2023-02-23T13:38:52.118783Z",
     "iopub.status.idle": "2023-02-23T13:38:52.126401Z",
     "shell.execute_reply": "2023-02-23T13:38:52.125522Z",
     "shell.execute_reply.started": "2023-02-23T13:38:52.11901Z"
    }
   },
   "outputs": [],
   "source": [
    "def convert_prod(obj) :\n",
    "    li=[]\n",
    "    counter=0\n",
    "    for i in ast.literal_eval(obj):               #ast.literal_eval raises an exception\n",
    "        if counter < 4:\n",
    "            li.append(i['name'])#if the input isn't a valid Python datatype, so the code won't be executed if it's not\n",
    "            counter+=1\n",
    "                               #Use ast.literal_eval whenever you need eval. You shouldn't usually evaluate literal Python statements.\n",
    "    return li"
   ]
  },
  {
   "cell_type": "code",
   "execution_count": 65,
   "metadata": {
    "execution": {
     "iopub.execute_input": "2023-02-23T13:38:52.127827Z",
     "iopub.status.busy": "2023-02-23T13:38:52.127529Z",
     "iopub.status.idle": "2023-02-23T13:38:52.29081Z",
     "shell.execute_reply": "2023-02-23T13:38:52.289988Z",
     "shell.execute_reply.started": "2023-02-23T13:38:52.127803Z"
    }
   },
   "outputs": [
    {
     "data": {
      "text/plain": [
       "0    [Ingenious Film Partners, Twentieth Century Fo...\n",
       "1    [Walt Disney Pictures, Jerry Bruckheimer Films...\n",
       "2                     [Columbia Pictures, Danjaq, B24]\n",
       "3    [Legendary Pictures, Warner Bros., DC Entertai...\n",
       "4                               [Walt Disney Pictures]\n",
       "5    [Columbia Pictures, Laura Ziskin Productions, ...\n",
       "Name: production_companies, dtype: object"
      ]
     },
     "execution_count": 65,
     "metadata": {},
     "output_type": "execute_result"
    }
   ],
   "source": [
    "movies['production_companies'] = movies['production_companies'].apply(convert_prod)\n",
    "movies['production_companies'][0:6]"
   ]
  },
  {
   "cell_type": "markdown",
   "metadata": {},
   "source": [
    "## Cast"
   ]
  },
  {
   "cell_type": "code",
   "execution_count": 66,
   "metadata": {
    "execution": {
     "iopub.execute_input": "2023-02-23T13:38:52.292634Z",
     "iopub.status.busy": "2023-02-23T13:38:52.292012Z",
     "iopub.status.idle": "2023-02-23T13:38:52.298606Z",
     "shell.execute_reply": "2023-02-23T13:38:52.297765Z",
     "shell.execute_reply.started": "2023-02-23T13:38:52.292602Z"
    }
   },
   "outputs": [
    {
     "data": {
      "text/plain": [
       "'[{\"cast_id\": 242, \"character\": \"Jake Sully\", \"credit_id\": \"5602a8a7c3a3685532001c9a\", \"gender\": 2, \"id\": 65731, \"name\": \"Sam Worthington\", \"order\": 0}, {\"cast_id\": 3, \"character\": \"Neytiri\", \"credit_id\": \"52fe48009251416c750ac9cb\", \"gender\": 1, \"id\": 8691, \"name\": \"Zoe Saldana\", \"order\": 1}, {\"cast_id\": 25, \"character\": \"Dr. Grace Augustine\", \"credit_id\": \"52fe48009251416c750aca39\", \"gender\": 1, \"id\": 10205, \"name\": \"Sigourney Weaver\", \"order\": 2}, {\"cast_id\": 4, \"character\": \"Col. Quaritch\", \"c'"
      ]
     },
     "execution_count": 66,
     "metadata": {},
     "output_type": "execute_result"
    }
   ],
   "source": [
    "movies['cast'][0][:500]"
   ]
  },
  {
   "cell_type": "code",
   "execution_count": 67,
   "metadata": {
    "execution": {
     "iopub.execute_input": "2023-02-23T13:38:52.300107Z",
     "iopub.status.busy": "2023-02-23T13:38:52.299842Z",
     "iopub.status.idle": "2023-02-23T13:38:52.306748Z",
     "shell.execute_reply": "2023-02-23T13:38:52.305918Z",
     "shell.execute_reply.started": "2023-02-23T13:38:52.300063Z"
    }
   },
   "outputs": [],
   "source": [
    "def convert_cast(obj) :\n",
    "    li=[]\n",
    "    counter=0\n",
    "    for i in ast.literal_eval(obj):\n",
    "        if counter < 3:\n",
    "            li.append(i['name'])\n",
    "            counter=+1\n",
    "    return li\n",
    "        "
   ]
  },
  {
   "cell_type": "code",
   "execution_count": 68,
   "metadata": {
    "execution": {
     "iopub.execute_input": "2023-02-23T13:38:52.308553Z",
     "iopub.status.busy": "2023-02-23T13:38:52.307779Z",
     "iopub.status.idle": "2023-02-23T13:38:55.278101Z",
     "shell.execute_reply": "2023-02-23T13:38:55.2771Z",
     "shell.execute_reply.started": "2023-02-23T13:38:52.308522Z"
    }
   },
   "outputs": [
    {
     "data": {
      "text/plain": [
       "0    [Sam Worthington, Zoe Saldana, Sigourney Weave...\n",
       "1    [Johnny Depp, Orlando Bloom, Keira Knightley, ...\n",
       "2    [Daniel Craig, Christoph Waltz, Léa Seydoux, R...\n",
       "3    [Christian Bale, Michael Caine, Gary Oldman, A...\n",
       "4    [Taylor Kitsch, Lynn Collins, Samantha Morton,...\n",
       "5    [Tobey Maguire, Kirsten Dunst, James Franco, T...\n",
       "Name: cast, dtype: object"
      ]
     },
     "execution_count": 68,
     "metadata": {},
     "output_type": "execute_result"
    }
   ],
   "source": [
    "movies['cast']=movies['cast'].apply(convert_cast)\n",
    "movies['cast'][0:6]"
   ]
  },
  {
   "cell_type": "markdown",
   "metadata": {},
   "source": [
    "# crew"
   ]
  },
  {
   "cell_type": "code",
   "execution_count": 69,
   "metadata": {
    "execution": {
     "iopub.execute_input": "2023-02-23T13:38:55.280378Z",
     "iopub.status.busy": "2023-02-23T13:38:55.279279Z",
     "iopub.status.idle": "2023-02-23T13:38:55.286478Z",
     "shell.execute_reply": "2023-02-23T13:38:55.285601Z",
     "shell.execute_reply.started": "2023-02-23T13:38:55.280345Z"
    }
   },
   "outputs": [
    {
     "data": {
      "text/plain": [
       "'[{\"credit_id\": \"52fe48009251416c750aca23\", \"department\": \"Editing\", \"gender\": 0, \"id\": 1721, \"job\": \"Editor\", \"name\": \"Stephen E. Rivkin\"}, {\"credit_id\": \"539c47ecc3a36810e3001f87\", \"department\": \"Art\", \"gender\": 2, \"id\": 496, \"job\": \"Production Design\", \"name\": \"Rick Carter\"}, {\"credit_id\": \"54491c89c3a3680fb4001cf7\", \"department\": \"Sound\", \"gender\": 0, \"id\": 900, \"job\": \"Sound Designer\", \"name\": \"Christopher Boyes\"}, {\"credit_id\": \"54491cb70e0a267480001bd0\", \"department\": \"Sound\", \"gender\": 0,'"
      ]
     },
     "execution_count": 69,
     "metadata": {},
     "output_type": "execute_result"
    }
   ],
   "source": [
    "movies['crew'][0][:500]"
   ]
  },
  {
   "cell_type": "code",
   "execution_count": 70,
   "metadata": {
    "execution": {
     "iopub.execute_input": "2023-02-23T13:38:55.288449Z",
     "iopub.status.busy": "2023-02-23T13:38:55.288048Z",
     "iopub.status.idle": "2023-02-23T13:38:55.296174Z",
     "shell.execute_reply": "2023-02-23T13:38:55.295399Z",
     "shell.execute_reply.started": "2023-02-23T13:38:55.288414Z"
    }
   },
   "outputs": [],
   "source": [
    "def convert_crew(obj):\n",
    "    crew_set=set()\n",
    "    crew_list = []\n",
    "    \n",
    "    for i in ast.literal_eval(obj):\n",
    "        if i['job'] in ['Director' ,'Screenplay','Producer']:\n",
    "            name=i['name']\n",
    "            if name not in crew_set:\n",
    "                crew_set.add(name)\n",
    "                crew_list.append(name)\n",
    "                \n",
    "    return crew_list"
   ]
  },
  {
   "cell_type": "code",
   "execution_count": 71,
   "metadata": {
    "execution": {
     "iopub.execute_input": "2023-02-23T13:38:55.29829Z",
     "iopub.status.busy": "2023-02-23T13:38:55.297617Z",
     "iopub.status.idle": "2023-02-23T13:38:58.455756Z",
     "shell.execute_reply": "2023-02-23T13:38:58.454824Z",
     "shell.execute_reply.started": "2023-02-23T13:38:55.298254Z"
    }
   },
   "outputs": [
    {
     "data": {
      "text/plain": [
       "0                          [James Cameron, Jon Landau]\n",
       "1    [Gore Verbinski, Jerry Bruckheimer, Ted Elliot...\n",
       "2    [Sam Mendes, John Logan, Barbara Broccoli, Rob...\n",
       "3    [Charles Roven, Christopher Nolan, Jonathan No...\n",
       "4    [Andrew Stanton, Colin Wilson, Jim Morris, Lin...\n",
       "5    [Sam Raimi, Laura Ziskin, Avi Arad, Alvin Sarg...\n",
       "Name: crew, dtype: object"
      ]
     },
     "execution_count": 71,
     "metadata": {},
     "output_type": "execute_result"
    }
   ],
   "source": [
    "movies['crew']=movies['crew'].apply(convert_crew)\n",
    "movies['crew'][0:6]"
   ]
  },
  {
   "cell_type": "code",
   "execution_count": 72,
   "metadata": {
    "execution": {
     "iopub.execute_input": "2023-02-23T13:38:58.461538Z",
     "iopub.status.busy": "2023-02-23T13:38:58.461252Z",
     "iopub.status.idle": "2023-02-23T13:38:58.482052Z",
     "shell.execute_reply": "2023-02-23T13:38:58.481245Z",
     "shell.execute_reply.started": "2023-02-23T13:38:58.461512Z"
    }
   },
   "outputs": [
    {
     "data": {
      "text/html": [
       "<div>\n",
       "<style scoped>\n",
       "    .dataframe tbody tr th:only-of-type {\n",
       "        vertical-align: middle;\n",
       "    }\n",
       "\n",
       "    .dataframe tbody tr th {\n",
       "        vertical-align: top;\n",
       "    }\n",
       "\n",
       "    .dataframe thead th {\n",
       "        text-align: right;\n",
       "    }\n",
       "</style>\n",
       "<table border=\"1\" class=\"dataframe\">\n",
       "  <thead>\n",
       "    <tr style=\"text-align: right;\">\n",
       "      <th></th>\n",
       "      <th>movie_id</th>\n",
       "      <th>title</th>\n",
       "      <th>overview</th>\n",
       "      <th>genres</th>\n",
       "      <th>keywords</th>\n",
       "      <th>production_companies</th>\n",
       "      <th>cast</th>\n",
       "      <th>crew</th>\n",
       "    </tr>\n",
       "  </thead>\n",
       "  <tbody>\n",
       "    <tr>\n",
       "      <th>0</th>\n",
       "      <td>19995</td>\n",
       "      <td>Avatar</td>\n",
       "      <td>In the 22nd century, a paraplegic Marine is di...</td>\n",
       "      <td>[Action, Adventure, Fantasy, Science Fiction]</td>\n",
       "      <td>[culture clash, future, space war, space colon...</td>\n",
       "      <td>[Ingenious Film Partners, Twentieth Century Fo...</td>\n",
       "      <td>[Sam Worthington, Zoe Saldana, Sigourney Weave...</td>\n",
       "      <td>[James Cameron, Jon Landau]</td>\n",
       "    </tr>\n",
       "    <tr>\n",
       "      <th>1</th>\n",
       "      <td>285</td>\n",
       "      <td>Pirates of the Caribbean: At World's End</td>\n",
       "      <td>Captain Barbossa, long believed to be dead, ha...</td>\n",
       "      <td>[Adventure, Fantasy, Action]</td>\n",
       "      <td>[ocean, drug abuse, exotic island, east india ...</td>\n",
       "      <td>[Walt Disney Pictures, Jerry Bruckheimer Films...</td>\n",
       "      <td>[Johnny Depp, Orlando Bloom, Keira Knightley, ...</td>\n",
       "      <td>[Gore Verbinski, Jerry Bruckheimer, Ted Elliot...</td>\n",
       "    </tr>\n",
       "    <tr>\n",
       "      <th>2</th>\n",
       "      <td>206647</td>\n",
       "      <td>Spectre</td>\n",
       "      <td>A cryptic message from Bond’s past sends him o...</td>\n",
       "      <td>[Action, Adventure, Crime]</td>\n",
       "      <td>[spy, based on novel, secret agent, sequel, mi...</td>\n",
       "      <td>[Columbia Pictures, Danjaq, B24]</td>\n",
       "      <td>[Daniel Craig, Christoph Waltz, Léa Seydoux, R...</td>\n",
       "      <td>[Sam Mendes, John Logan, Barbara Broccoli, Rob...</td>\n",
       "    </tr>\n",
       "    <tr>\n",
       "      <th>3</th>\n",
       "      <td>49026</td>\n",
       "      <td>The Dark Knight Rises</td>\n",
       "      <td>Following the death of District Attorney Harve...</td>\n",
       "      <td>[Action, Crime, Drama, Thriller]</td>\n",
       "      <td>[dc comics, crime fighter, terrorist, secret i...</td>\n",
       "      <td>[Legendary Pictures, Warner Bros., DC Entertai...</td>\n",
       "      <td>[Christian Bale, Michael Caine, Gary Oldman, A...</td>\n",
       "      <td>[Charles Roven, Christopher Nolan, Jonathan No...</td>\n",
       "    </tr>\n",
       "    <tr>\n",
       "      <th>4</th>\n",
       "      <td>49529</td>\n",
       "      <td>John Carter</td>\n",
       "      <td>John Carter is a war-weary, former military ca...</td>\n",
       "      <td>[Action, Adventure, Science Fiction]</td>\n",
       "      <td>[based on novel, mars, medallion, space travel...</td>\n",
       "      <td>[Walt Disney Pictures]</td>\n",
       "      <td>[Taylor Kitsch, Lynn Collins, Samantha Morton,...</td>\n",
       "      <td>[Andrew Stanton, Colin Wilson, Jim Morris, Lin...</td>\n",
       "    </tr>\n",
       "  </tbody>\n",
       "</table>\n",
       "</div>"
      ],
      "text/plain": [
       "   movie_id                                     title  \\\n",
       "0     19995                                    Avatar   \n",
       "1       285  Pirates of the Caribbean: At World's End   \n",
       "2    206647                                   Spectre   \n",
       "3     49026                     The Dark Knight Rises   \n",
       "4     49529                               John Carter   \n",
       "\n",
       "                                            overview  \\\n",
       "0  In the 22nd century, a paraplegic Marine is di...   \n",
       "1  Captain Barbossa, long believed to be dead, ha...   \n",
       "2  A cryptic message from Bond’s past sends him o...   \n",
       "3  Following the death of District Attorney Harve...   \n",
       "4  John Carter is a war-weary, former military ca...   \n",
       "\n",
       "                                          genres  \\\n",
       "0  [Action, Adventure, Fantasy, Science Fiction]   \n",
       "1                   [Adventure, Fantasy, Action]   \n",
       "2                     [Action, Adventure, Crime]   \n",
       "3               [Action, Crime, Drama, Thriller]   \n",
       "4           [Action, Adventure, Science Fiction]   \n",
       "\n",
       "                                            keywords  \\\n",
       "0  [culture clash, future, space war, space colon...   \n",
       "1  [ocean, drug abuse, exotic island, east india ...   \n",
       "2  [spy, based on novel, secret agent, sequel, mi...   \n",
       "3  [dc comics, crime fighter, terrorist, secret i...   \n",
       "4  [based on novel, mars, medallion, space travel...   \n",
       "\n",
       "                                production_companies  \\\n",
       "0  [Ingenious Film Partners, Twentieth Century Fo...   \n",
       "1  [Walt Disney Pictures, Jerry Bruckheimer Films...   \n",
       "2                   [Columbia Pictures, Danjaq, B24]   \n",
       "3  [Legendary Pictures, Warner Bros., DC Entertai...   \n",
       "4                             [Walt Disney Pictures]   \n",
       "\n",
       "                                                cast  \\\n",
       "0  [Sam Worthington, Zoe Saldana, Sigourney Weave...   \n",
       "1  [Johnny Depp, Orlando Bloom, Keira Knightley, ...   \n",
       "2  [Daniel Craig, Christoph Waltz, Léa Seydoux, R...   \n",
       "3  [Christian Bale, Michael Caine, Gary Oldman, A...   \n",
       "4  [Taylor Kitsch, Lynn Collins, Samantha Morton,...   \n",
       "\n",
       "                                                crew  \n",
       "0                        [James Cameron, Jon Landau]  \n",
       "1  [Gore Verbinski, Jerry Bruckheimer, Ted Elliot...  \n",
       "2  [Sam Mendes, John Logan, Barbara Broccoli, Rob...  \n",
       "3  [Charles Roven, Christopher Nolan, Jonathan No...  \n",
       "4  [Andrew Stanton, Colin Wilson, Jim Morris, Lin...  "
      ]
     },
     "execution_count": 72,
     "metadata": {},
     "output_type": "execute_result"
    }
   ],
   "source": [
    "movies.head()"
   ]
  },
  {
   "cell_type": "markdown",
   "metadata": {},
   "source": [
    "## Overview\n",
    "\n",
    "This will convert our movie overviews into a list of strings, in other words, tokens. This will help us in measuring similarities between\n",
    "movies"
   ]
  },
  {
   "cell_type": "code",
   "execution_count": 73,
   "metadata": {
    "execution": {
     "iopub.execute_input": "2023-02-23T13:38:58.483729Z",
     "iopub.status.busy": "2023-02-23T13:38:58.483437Z",
     "iopub.status.idle": "2023-02-23T13:38:58.516519Z",
     "shell.execute_reply": "2023-02-23T13:38:58.515695Z",
     "shell.execute_reply.started": "2023-02-23T13:38:58.483704Z"
    }
   },
   "outputs": [
    {
     "data": {
      "text/plain": [
       "0    [In, the, 22nd, century,, a, paraplegic, Marin...\n",
       "1    [Captain, Barbossa,, long, believed, to, be, d...\n",
       "2    [A, cryptic, message, from, Bond’s, past, send...\n",
       "3    [Following, the, death, of, District, Attorney...\n",
       "4    [John, Carter, is, a, war-weary,, former, mili...\n",
       "5    [The, seemingly, invincible, Spider-Man, goes,...\n",
       "Name: overview, dtype: object"
      ]
     },
     "execution_count": 73,
     "metadata": {},
     "output_type": "execute_result"
    }
   ],
   "source": [
    "movies['overview']=movies['overview'].apply(lambda x:x.split())\n",
    "movies['overview'][0:6]"
   ]
  },
  {
   "cell_type": "markdown",
   "metadata": {},
   "source": [
    "Now the data frame looks much better and is easier to read now\\\\\n",
    "Saving the dataframe to create the website"
   ]
  },
  {
   "cell_type": "code",
   "execution_count": 74,
   "metadata": {
    "execution": {
     "iopub.execute_input": "2023-02-23T13:38:58.518277Z",
     "iopub.status.busy": "2023-02-23T13:38:58.517986Z",
     "iopub.status.idle": "2023-02-23T13:38:58.676358Z",
     "shell.execute_reply": "2023-02-23T13:38:58.675371Z",
     "shell.execute_reply.started": "2023-02-23T13:38:58.518252Z"
    }
   },
   "outputs": [],
   "source": [
    "cleaned_movies=movies.copy()\n",
    "cleaned_movies.to_csv('cleaned_movies.csv')"
   ]
  },
  {
   "cell_type": "markdown",
   "metadata": {},
   "source": [
    "## Feature Transformation\n",
    "\n",
    "Now we will remove the spaces between strings for each value in 'genres', 'keywords', 'production_companies', 'cast', and 'crew'.\n",
    "The purpose of this is to create only one tag per feature instead of two or more.\n",
    "Example:"
   ]
  },
  {
   "cell_type": "markdown",
   "metadata": {},
   "source": []
  },
  {
   "cell_type": "code",
   "execution_count": 75,
   "metadata": {
    "execution": {
     "iopub.execute_input": "2023-02-23T13:38:58.677783Z",
     "iopub.status.busy": "2023-02-23T13:38:58.677524Z",
     "iopub.status.idle": "2023-02-23T13:38:58.753831Z",
     "shell.execute_reply": "2023-02-23T13:38:58.752971Z",
     "shell.execute_reply.started": "2023-02-23T13:38:58.67776Z"
    }
   },
   "outputs": [],
   "source": [
    "movies['genres'] = movies['genres'].apply(lambda x:[i.replace(' ', '') for i in x])\n",
    "movies['keywords'] = movies['keywords'].apply(lambda x:[i.replace(' ', '') for i in x])\n",
    "movies['production_companies'] = movies['production_companies'].apply(lambda x:[i.replace(' ','') for i in x])\n",
    "movies['cast'] = movies['cast'].apply(lambda x:[i.replace(' ', '') for i in x])\n",
    "movies['crew'] = movies['crew'].apply(lambda x:[i.replace(' ', '') for i in x])"
   ]
  },
  {
   "cell_type": "code",
   "execution_count": 76,
   "metadata": {
    "execution": {
     "iopub.execute_input": "2023-02-23T13:38:58.755331Z",
     "iopub.status.busy": "2023-02-23T13:38:58.755064Z",
     "iopub.status.idle": "2023-02-23T13:38:58.778255Z",
     "shell.execute_reply": "2023-02-23T13:38:58.777387Z",
     "shell.execute_reply.started": "2023-02-23T13:38:58.755302Z"
    }
   },
   "outputs": [
    {
     "data": {
      "text/html": [
       "<div>\n",
       "<style scoped>\n",
       "    .dataframe tbody tr th:only-of-type {\n",
       "        vertical-align: middle;\n",
       "    }\n",
       "\n",
       "    .dataframe tbody tr th {\n",
       "        vertical-align: top;\n",
       "    }\n",
       "\n",
       "    .dataframe thead th {\n",
       "        text-align: right;\n",
       "    }\n",
       "</style>\n",
       "<table border=\"1\" class=\"dataframe\">\n",
       "  <thead>\n",
       "    <tr style=\"text-align: right;\">\n",
       "      <th></th>\n",
       "      <th>movie_id</th>\n",
       "      <th>title</th>\n",
       "      <th>overview</th>\n",
       "      <th>genres</th>\n",
       "      <th>keywords</th>\n",
       "      <th>production_companies</th>\n",
       "      <th>cast</th>\n",
       "      <th>crew</th>\n",
       "    </tr>\n",
       "  </thead>\n",
       "  <tbody>\n",
       "    <tr>\n",
       "      <th>0</th>\n",
       "      <td>19995</td>\n",
       "      <td>Avatar</td>\n",
       "      <td>[In, the, 22nd, century,, a, paraplegic, Marin...</td>\n",
       "      <td>[Action, Adventure, Fantasy, ScienceFiction]</td>\n",
       "      <td>[cultureclash, future, spacewar, spacecolony, ...</td>\n",
       "      <td>[IngeniousFilmPartners, TwentiethCenturyFoxFil...</td>\n",
       "      <td>[SamWorthington, ZoeSaldana, SigourneyWeaver, ...</td>\n",
       "      <td>[JamesCameron, JonLandau]</td>\n",
       "    </tr>\n",
       "    <tr>\n",
       "      <th>1</th>\n",
       "      <td>285</td>\n",
       "      <td>Pirates of the Caribbean: At World's End</td>\n",
       "      <td>[Captain, Barbossa,, long, believed, to, be, d...</td>\n",
       "      <td>[Adventure, Fantasy, Action]</td>\n",
       "      <td>[ocean, drugabuse, exoticisland, eastindiatrad...</td>\n",
       "      <td>[WaltDisneyPictures, JerryBruckheimerFilms, Se...</td>\n",
       "      <td>[JohnnyDepp, OrlandoBloom, KeiraKnightley, Ste...</td>\n",
       "      <td>[GoreVerbinski, JerryBruckheimer, TedElliott, ...</td>\n",
       "    </tr>\n",
       "    <tr>\n",
       "      <th>2</th>\n",
       "      <td>206647</td>\n",
       "      <td>Spectre</td>\n",
       "      <td>[A, cryptic, message, from, Bond’s, past, send...</td>\n",
       "      <td>[Action, Adventure, Crime]</td>\n",
       "      <td>[spy, basedonnovel, secretagent, sequel, mi6, ...</td>\n",
       "      <td>[ColumbiaPictures, Danjaq, B24]</td>\n",
       "      <td>[DanielCraig, ChristophWaltz, LéaSeydoux, Ralp...</td>\n",
       "      <td>[SamMendes, JohnLogan, BarbaraBroccoli, Robert...</td>\n",
       "    </tr>\n",
       "    <tr>\n",
       "      <th>3</th>\n",
       "      <td>49026</td>\n",
       "      <td>The Dark Knight Rises</td>\n",
       "      <td>[Following, the, death, of, District, Attorney...</td>\n",
       "      <td>[Action, Crime, Drama, Thriller]</td>\n",
       "      <td>[dccomics, crimefighter, terrorist, secretiden...</td>\n",
       "      <td>[LegendaryPictures, WarnerBros., DCEntertainme...</td>\n",
       "      <td>[ChristianBale, MichaelCaine, GaryOldman, Anne...</td>\n",
       "      <td>[CharlesRoven, ChristopherNolan, JonathanNolan...</td>\n",
       "    </tr>\n",
       "    <tr>\n",
       "      <th>4</th>\n",
       "      <td>49529</td>\n",
       "      <td>John Carter</td>\n",
       "      <td>[John, Carter, is, a, war-weary,, former, mili...</td>\n",
       "      <td>[Action, Adventure, ScienceFiction]</td>\n",
       "      <td>[basedonnovel, mars, medallion, spacetravel, p...</td>\n",
       "      <td>[WaltDisneyPictures]</td>\n",
       "      <td>[TaylorKitsch, LynnCollins, SamanthaMorton, Wi...</td>\n",
       "      <td>[AndrewStanton, ColinWilson, JimMorris, Lindse...</td>\n",
       "    </tr>\n",
       "    <tr>\n",
       "      <th>5</th>\n",
       "      <td>559</td>\n",
       "      <td>Spider-Man 3</td>\n",
       "      <td>[The, seemingly, invincible, Spider-Man, goes,...</td>\n",
       "      <td>[Fantasy, Action, Adventure]</td>\n",
       "      <td>[dualidentity, amnesia, sandstorm, loveofone's...</td>\n",
       "      <td>[ColumbiaPictures, LauraZiskinProductions, Mar...</td>\n",
       "      <td>[TobeyMaguire, KirstenDunst, JamesFranco, Thom...</td>\n",
       "      <td>[SamRaimi, LauraZiskin, AviArad, AlvinSargent,...</td>\n",
       "    </tr>\n",
       "    <tr>\n",
       "      <th>6</th>\n",
       "      <td>38757</td>\n",
       "      <td>Tangled</td>\n",
       "      <td>[When, the, kingdom's, most, wanted-and, most,...</td>\n",
       "      <td>[Animation, Family]</td>\n",
       "      <td>[hostage, magic, horse, fairytale, musical, pr...</td>\n",
       "      <td>[WaltDisneyPictures, WaltDisneyAnimationStudios]</td>\n",
       "      <td>[ZacharyLevi, MandyMoore, DonnaMurphy, RonPerl...</td>\n",
       "      <td>[DanFogelman, RoyConli, ByronHoward, NathanGreno]</td>\n",
       "    </tr>\n",
       "    <tr>\n",
       "      <th>7</th>\n",
       "      <td>99861</td>\n",
       "      <td>Avengers: Age of Ultron</td>\n",
       "      <td>[When, Tony, Stark, tries, to, jumpstart, a, d...</td>\n",
       "      <td>[Action, Adventure, ScienceFiction]</td>\n",
       "      <td>[marvelcomic, sequel, superhero, basedoncomicb...</td>\n",
       "      <td>[MarvelStudios, PrimeFocus, RevolutionSunStudios]</td>\n",
       "      <td>[RobertDowneyJr., ChrisHemsworth, MarkRuffalo,...</td>\n",
       "      <td>[KevinFeige, JossWhedon]</td>\n",
       "    </tr>\n",
       "    <tr>\n",
       "      <th>8</th>\n",
       "      <td>767</td>\n",
       "      <td>Harry Potter and the Half-Blood Prince</td>\n",
       "      <td>[As, Harry, begins, his, sixth, year, at, Hogw...</td>\n",
       "      <td>[Adventure, Fantasy, Family]</td>\n",
       "      <td>[witch, magic, broom, schoolofwitchcraft, wiza...</td>\n",
       "      <td>[WarnerBros., HeydayFilms]</td>\n",
       "      <td>[DanielRadcliffe, RupertGrint, EmmaWatson, Tom...</td>\n",
       "      <td>[SteveKloves, DavidHeyman, DavidYates, DavidBa...</td>\n",
       "    </tr>\n",
       "    <tr>\n",
       "      <th>9</th>\n",
       "      <td>209112</td>\n",
       "      <td>Batman v Superman: Dawn of Justice</td>\n",
       "      <td>[Fearing, the, actions, of, a, god-like, Super...</td>\n",
       "      <td>[Action, Adventure, Fantasy]</td>\n",
       "      <td>[dccomics, vigilante, superhero, basedoncomicb...</td>\n",
       "      <td>[DCComics, AtlasEntertainment, WarnerBros., DC...</td>\n",
       "      <td>[BenAffleck, HenryCavill, GalGadot, AmyAdams, ...</td>\n",
       "      <td>[CharlesRoven, DavidS.Goyer, ZackSnyder, Debor...</td>\n",
       "    </tr>\n",
       "    <tr>\n",
       "      <th>10</th>\n",
       "      <td>1452</td>\n",
       "      <td>Superman Returns</td>\n",
       "      <td>[Superman, returns, to, discover, his, 5-year,...</td>\n",
       "      <td>[Adventure, Fantasy, Action, ScienceFiction]</td>\n",
       "      <td>[savingtheworld, dccomics, invulnerability, se...</td>\n",
       "      <td>[DCComics, LegendaryPictures, WarnerBros., Bad...</td>\n",
       "      <td>[BrandonRouth, KevinSpacey, KateBosworth, Jame...</td>\n",
       "      <td>[JonPeters, GilbertAdler, BryanSinger, Michael...</td>\n",
       "    </tr>\n",
       "    <tr>\n",
       "      <th>11</th>\n",
       "      <td>10764</td>\n",
       "      <td>Quantum of Solace</td>\n",
       "      <td>[Quantum, of, Solace, continues, the, adventur...</td>\n",
       "      <td>[Adventure, Action, Thriller, Crime]</td>\n",
       "      <td>[killing, undercover, secretagent, britishsecr...</td>\n",
       "      <td>[EonProductions]</td>\n",
       "      <td>[DanielCraig, OlgaKurylenko, MathieuAmalric, J...</td>\n",
       "      <td>[PaulHaggis, BarbaraBroccoli, MarcForster, Rob...</td>\n",
       "    </tr>\n",
       "    <tr>\n",
       "      <th>12</th>\n",
       "      <td>58</td>\n",
       "      <td>Pirates of the Caribbean: Dead Man's Chest</td>\n",
       "      <td>[Captain, Jack, Sparrow, works, his, way, out,...</td>\n",
       "      <td>[Adventure, Fantasy, Action]</td>\n",
       "      <td>[witch, fortuneteller, bondage, exoticisland, ...</td>\n",
       "      <td>[WaltDisneyPictures, JerryBruckheimerFilms, Se...</td>\n",
       "      <td>[JohnnyDepp, OrlandoBloom, KeiraKnightley, Ste...</td>\n",
       "      <td>[GoreVerbinski, JerryBruckheimer, TedElliott, ...</td>\n",
       "    </tr>\n",
       "    <tr>\n",
       "      <th>13</th>\n",
       "      <td>57201</td>\n",
       "      <td>The Lone Ranger</td>\n",
       "      <td>[The, Texas, Rangers, chase, down, a, gang, of...</td>\n",
       "      <td>[Action, Adventure, Western]</td>\n",
       "      <td>[texas, horse, survivor, texasranger, partner,...</td>\n",
       "      <td>[WaltDisneyPictures, JerryBruckheimerFilms, In...</td>\n",
       "      <td>[JohnnyDepp, ArmieHammer, WilliamFichtner, Hel...</td>\n",
       "      <td>[GoreVerbinski, JerryBruckheimer, TedElliott, ...</td>\n",
       "    </tr>\n",
       "    <tr>\n",
       "      <th>14</th>\n",
       "      <td>49521</td>\n",
       "      <td>Man of Steel</td>\n",
       "      <td>[A, young, boy, learns, that, he, has, extraor...</td>\n",
       "      <td>[Action, Adventure, Fantasy, ScienceFiction]</td>\n",
       "      <td>[savingtheworld, dccomics, superhero, basedonc...</td>\n",
       "      <td>[LegendaryPictures, WarnerBros., DCEntertainme...</td>\n",
       "      <td>[HenryCavill, AmyAdams, MichaelShannon, KevinC...</td>\n",
       "      <td>[CharlesRoven, ChristopherNolan, EmmaThomas, D...</td>\n",
       "    </tr>\n",
       "    <tr>\n",
       "      <th>15</th>\n",
       "      <td>2454</td>\n",
       "      <td>The Chronicles of Narnia: Prince Caspian</td>\n",
       "      <td>[One, year, after, their, incredible, adventur...</td>\n",
       "      <td>[Adventure, Family, Fantasy]</td>\n",
       "      <td>[basedonnovel, fictionalplace, brothersisterre...</td>\n",
       "      <td>[WaltDisney, WaldenMedia, StillkingFilms, Ozum...</td>\n",
       "      <td>[BenBarnes, WilliamMoseley, AnnaPopplewell, Sk...</td>\n",
       "      <td>[MarkJohnson, AndrewAdamson, PhilipSteuer, Chr...</td>\n",
       "    </tr>\n",
       "    <tr>\n",
       "      <th>16</th>\n",
       "      <td>24428</td>\n",
       "      <td>The Avengers</td>\n",
       "      <td>[When, an, unexpected, enemy, emerges, and, th...</td>\n",
       "      <td>[ScienceFiction, Action, Adventure]</td>\n",
       "      <td>[newyork, shield, marvelcomic, superhero, base...</td>\n",
       "      <td>[ParamountPictures, MarvelStudios]</td>\n",
       "      <td>[RobertDowneyJr., ChrisEvans, MarkRuffalo, Chr...</td>\n",
       "      <td>[KevinFeige, JossWhedon]</td>\n",
       "    </tr>\n",
       "    <tr>\n",
       "      <th>17</th>\n",
       "      <td>1865</td>\n",
       "      <td>Pirates of the Caribbean: On Stranger Tides</td>\n",
       "      <td>[Captain, Jack, Sparrow, crosses, paths, with,...</td>\n",
       "      <td>[Adventure, Action, Fantasy]</td>\n",
       "      <td>[sea, captain, mutiny, sword, primeminister, s...</td>\n",
       "      <td>[WaltDisneyPictures, JerryBruckheimerFilms, Mo...</td>\n",
       "      <td>[JohnnyDepp, PenélopeCruz, IanMcShane, KevinMc...</td>\n",
       "      <td>[JerryBruckheimer, TedElliott, TerryRossio, Ro...</td>\n",
       "    </tr>\n",
       "    <tr>\n",
       "      <th>18</th>\n",
       "      <td>41154</td>\n",
       "      <td>Men in Black 3</td>\n",
       "      <td>[Agents, J, (Will, Smith), and, K, (Tommy, Lee...</td>\n",
       "      <td>[Action, Comedy, ScienceFiction]</td>\n",
       "      <td>[timetravel, timemachine, alien, fictionalgove...</td>\n",
       "      <td>[AmblinEntertainment, MediaMagikEntertainment,...</td>\n",
       "      <td>[WillSmith, TommyLeeJones, JoshBrolin, Michael...</td>\n",
       "      <td>[WalterF.Parkes, BarrySonnenfeld, LaurieMacDon...</td>\n",
       "    </tr>\n",
       "    <tr>\n",
       "      <th>19</th>\n",
       "      <td>122917</td>\n",
       "      <td>The Hobbit: The Battle of the Five Armies</td>\n",
       "      <td>[Immediately, after, the, events, of, The, Des...</td>\n",
       "      <td>[Action, Adventure, Fantasy]</td>\n",
       "      <td>[corruption, elves, dwarves, orcs, middle-eart...</td>\n",
       "      <td>[WingNutFilms, NewLineCinema, WarnerBros.Pictu...</td>\n",
       "      <td>[MartinFreeman, IanMcKellen, RichardArmitage, ...</td>\n",
       "      <td>[PeterJackson, FranWalsh, CarolynneCunningham,...</td>\n",
       "    </tr>\n",
       "    <tr>\n",
       "      <th>20</th>\n",
       "      <td>1930</td>\n",
       "      <td>The Amazing Spider-Man</td>\n",
       "      <td>[Peter, Parker, is, an, outcast, high, schoole...</td>\n",
       "      <td>[Action, Adventure, Fantasy]</td>\n",
       "      <td>[lossoffather, vigilante, serum, marvelcomic, ...</td>\n",
       "      <td>[ColumbiaPictures, LauraZiskinProductions, Mar...</td>\n",
       "      <td>[AndrewGarfield, EmmaStone, RhysIfans, DenisLe...</td>\n",
       "      <td>[LauraZiskin, AviArad, AlvinSargent, SteveKlov...</td>\n",
       "    </tr>\n",
       "    <tr>\n",
       "      <th>21</th>\n",
       "      <td>20662</td>\n",
       "      <td>Robin Hood</td>\n",
       "      <td>[When, soldier, Robin, happens, upon, the, dyi...</td>\n",
       "      <td>[Action, Adventure]</td>\n",
       "      <td>[robinhood, archer, knight, sherwoodforest, bo...</td>\n",
       "      <td>[ImagineEntertainment, UniversalPictures, Scot...</td>\n",
       "      <td>[RussellCrowe, CateBlanchett, MaxvonSydow, Wil...</td>\n",
       "      <td>[BrianGrazer, RidleyScott, RussellCrowe, Brian...</td>\n",
       "    </tr>\n",
       "    <tr>\n",
       "      <th>22</th>\n",
       "      <td>57158</td>\n",
       "      <td>The Hobbit: The Desolation of Smaug</td>\n",
       "      <td>[The, Dwarves,, Bilbo, and, Gandalf, have, suc...</td>\n",
       "      <td>[Adventure, Fantasy]</td>\n",
       "      <td>[elves, dwarves, orcs, hobbit, dragon, wizard,...</td>\n",
       "      <td>[WingNutFilms, NewLineCinema, WarnerBros.Pictu...</td>\n",
       "      <td>[MartinFreeman, IanMcKellen, RichardArmitage, ...</td>\n",
       "      <td>[PeterJackson, FranWalsh, PhilippaBoyens, Caro...</td>\n",
       "    </tr>\n",
       "    <tr>\n",
       "      <th>23</th>\n",
       "      <td>2268</td>\n",
       "      <td>The Golden Compass</td>\n",
       "      <td>[After, overhearing, a, shocking, secret,, pre...</td>\n",
       "      <td>[Adventure, Fantasy]</td>\n",
       "      <td>[england, compass, experiment, lordship, uncle...</td>\n",
       "      <td>[NewLineCinema, IngeniousFilmPartners, Depthof...</td>\n",
       "      <td>[DakotaBlueRichards, NicoleKidman, DanielCraig...</td>\n",
       "      <td>[ChrisWeitz, BillCarraro, DeborahForte]</td>\n",
       "    </tr>\n",
       "    <tr>\n",
       "      <th>24</th>\n",
       "      <td>254</td>\n",
       "      <td>King Kong</td>\n",
       "      <td>[In, 1933, New, York,, an, overly, ambitious, ...</td>\n",
       "      <td>[Adventure, Drama, Action]</td>\n",
       "      <td>[filmbusiness, screenplay, showbusiness, filmm...</td>\n",
       "      <td>[WingNutFilms, UniversalPictures, BigPrimatePi...</td>\n",
       "      <td>[NaomiWatts, JackBlack, AdrienBrody, ThomasKre...</td>\n",
       "      <td>[PeterJackson, FranWalsh, JanBlenkin, Carolynn...</td>\n",
       "    </tr>\n",
       "    <tr>\n",
       "      <th>25</th>\n",
       "      <td>597</td>\n",
       "      <td>Titanic</td>\n",
       "      <td>[84, years, later,, a, 101-year-old, woman, na...</td>\n",
       "      <td>[Drama, Romance, Thriller]</td>\n",
       "      <td>[shipwreck, iceberg, ship, panic, titanic, oce...</td>\n",
       "      <td>[ParamountPictures, TwentiethCenturyFoxFilmCor...</td>\n",
       "      <td>[KateWinslet, LeonardoDiCaprio, FrancesFisher,...</td>\n",
       "      <td>[JamesCameron, JonLandau]</td>\n",
       "    </tr>\n",
       "    <tr>\n",
       "      <th>26</th>\n",
       "      <td>271110</td>\n",
       "      <td>Captain America: Civil War</td>\n",
       "      <td>[Following, the, events, of, Age, of, Ultron,,...</td>\n",
       "      <td>[Adventure, Action, ScienceFiction]</td>\n",
       "      <td>[civilwar, war, marvelcomic, sequel, superhero...</td>\n",
       "      <td>[StudioBabelsberg, MarvelStudios, WaltDisneySt...</td>\n",
       "      <td>[ChrisEvans, RobertDowneyJr., ScarlettJohansso...</td>\n",
       "      <td>[ChristopherMarkus, StephenMcFeely, KevinFeige...</td>\n",
       "    </tr>\n",
       "    <tr>\n",
       "      <th>27</th>\n",
       "      <td>44833</td>\n",
       "      <td>Battleship</td>\n",
       "      <td>[When, mankind, beams, a, radio, signal, into,...</td>\n",
       "      <td>[Thriller, Action, Adventure, ScienceFiction]</td>\n",
       "      <td>[fight, u.s.navy, mindreading, hongkong, socce...</td>\n",
       "      <td>[UniversalPictures, Hasbro, BluegrassFilms, Fi...</td>\n",
       "      <td>[TaylorKitsch, AlexanderSkarsgård, Rihanna, Br...</td>\n",
       "      <td>[DuncanHenderson, ScottStuber, BrianGoldner, P...</td>\n",
       "    </tr>\n",
       "    <tr>\n",
       "      <th>28</th>\n",
       "      <td>135397</td>\n",
       "      <td>Jurassic World</td>\n",
       "      <td>[Twenty-two, years, after, the, events, of, Ju...</td>\n",
       "      <td>[Action, Adventure, ScienceFiction, Thriller]</td>\n",
       "      <td>[monster, dna, tyrannosaurusrex, velociraptor,...</td>\n",
       "      <td>[UniversalStudios, AmblinEntertainment, Legend...</td>\n",
       "      <td>[ChrisPratt, BryceDallasHoward, IrrfanKhan, Vi...</td>\n",
       "      <td>[FrankMarshall, PatrickCrowley, RickJaffa, Ama...</td>\n",
       "    </tr>\n",
       "    <tr>\n",
       "      <th>29</th>\n",
       "      <td>37724</td>\n",
       "      <td>Skyfall</td>\n",
       "      <td>[When, Bond's, latest, assignment, goes, grave...</td>\n",
       "      <td>[Action, Adventure, Thriller]</td>\n",
       "      <td>[spy, secretagent, sociopath, killer, artgalle...</td>\n",
       "      <td>[ColumbiaPictures]</td>\n",
       "      <td>[DanielCraig, JudiDench, JavierBardem, RalphFi...</td>\n",
       "      <td>[SamMendes, BarbaraBroccoli, MichaelG.Wilson]</td>\n",
       "    </tr>\n",
       "    <tr>\n",
       "      <th>30</th>\n",
       "      <td>558</td>\n",
       "      <td>Spider-Man 2</td>\n",
       "      <td>[Peter, Parker, is, going, through, a, major, ...</td>\n",
       "      <td>[Action, Adventure, Fantasy]</td>\n",
       "      <td>[dualidentity, loveofone'slife, pizzaboy, marv...</td>\n",
       "      <td>[ColumbiaPictures, LauraZiskinProductions, Mar...</td>\n",
       "      <td>[TobeyMaguire, KirstenDunst, JamesFranco, Alfr...</td>\n",
       "      <td>[SamRaimi, LauraZiskin, AviArad, AlvinSargent,...</td>\n",
       "    </tr>\n",
       "    <tr>\n",
       "      <th>31</th>\n",
       "      <td>68721</td>\n",
       "      <td>Iron Man 3</td>\n",
       "      <td>[When, Tony, Stark's, world, is, torn, apart, ...</td>\n",
       "      <td>[Action, Adventure, ScienceFiction]</td>\n",
       "      <td>[terrorist, waronterror, tennessee, malibu, ma...</td>\n",
       "      <td>[MarvelStudios]</td>\n",
       "      <td>[RobertDowneyJr., GwynethPaltrow, DonCheadle, ...</td>\n",
       "      <td>[ShaneBlack, KevinFeige, DrewPearce]</td>\n",
       "    </tr>\n",
       "    <tr>\n",
       "      <th>32</th>\n",
       "      <td>12155</td>\n",
       "      <td>Alice in Wonderland</td>\n",
       "      <td>[Alice,, an, unpretentious, and, individual, 1...</td>\n",
       "      <td>[Family, Fantasy, Adventure]</td>\n",
       "      <td>[basedonnovel, fictionalplace, queen, fantasy,...</td>\n",
       "      <td>[WaltDisneyPictures, TeamTodd, TimBurtonProduc...</td>\n",
       "      <td>[MiaWasikowska, JohnnyDepp, AnneHathaway, Hele...</td>\n",
       "      <td>[TimBurton, JenniferTodd, SuzanneTodd, Richard...</td>\n",
       "    </tr>\n",
       "    <tr>\n",
       "      <th>33</th>\n",
       "      <td>36668</td>\n",
       "      <td>X-Men: The Last Stand</td>\n",
       "      <td>[When, a, cure, is, found, to, treat, mutation...</td>\n",
       "      <td>[Adventure, Action, ScienceFiction, Thriller]</td>\n",
       "      <td>[mutant, marvelcomic, basedoncomicbook, superh...</td>\n",
       "      <td>[IngeniousFilmPartners, TwentiethCenturyFoxFil...</td>\n",
       "      <td>[HughJackman, HalleBerry, IanMcKellen, Patrick...</td>\n",
       "      <td>[RalphWinter, LaurenShulerDonner, AviArad, Sim...</td>\n",
       "    </tr>\n",
       "    <tr>\n",
       "      <th>34</th>\n",
       "      <td>62211</td>\n",
       "      <td>Monsters University</td>\n",
       "      <td>[A, look, at, the, relationship, between, Mike...</td>\n",
       "      <td>[Animation, Family]</td>\n",
       "      <td>[monster, dormitory, games, animation, bestfri...</td>\n",
       "      <td>[WaltDisneyPictures, PixarAnimationStudios]</td>\n",
       "      <td>[BillyCrystal, JohnGoodman, SteveBuscemi, Hele...</td>\n",
       "      <td>[KoriRae, DanielGerson, RobertL.Baird, DanScan...</td>\n",
       "    </tr>\n",
       "    <tr>\n",
       "      <th>35</th>\n",
       "      <td>8373</td>\n",
       "      <td>Transformers: Revenge of the Fallen</td>\n",
       "      <td>[Sam, Witwicky, leaves, the, Autobots, behind,...</td>\n",
       "      <td>[ScienceFiction, Action, Adventure]</td>\n",
       "      <td>[egypt, sun, chaos, symbol, artifact, transfor...</td>\n",
       "      <td>[ParamountPictures, DreamWorksSKG, AmblinEnter...</td>\n",
       "      <td>[ShiaLaBeouf, MeganFox, JoshDuhamel, RainnWils...</td>\n",
       "      <td>[MichaelBay, DonMurphy, IanBryce, LorenzodiBon...</td>\n",
       "    </tr>\n",
       "    <tr>\n",
       "      <th>36</th>\n",
       "      <td>91314</td>\n",
       "      <td>Transformers: Age of Extinction</td>\n",
       "      <td>[As, humanity, picks, up, the, pieces,, follow...</td>\n",
       "      <td>[ScienceFiction, Action, Adventure]</td>\n",
       "      <td>[sequel, alien, transformers, giantrobot, robo...</td>\n",
       "      <td>[ParamountPictures, AmblinEntertainment, DiBon...</td>\n",
       "      <td>[MarkWahlberg, StanleyTucci, KelseyGrammer, Ni...</td>\n",
       "      <td>[MichaelBay, DonMurphy, IanBryce, LorenzodiBon...</td>\n",
       "    </tr>\n",
       "    <tr>\n",
       "      <th>37</th>\n",
       "      <td>68728</td>\n",
       "      <td>Oz: The Great and Powerful</td>\n",
       "      <td>[Oscar, Diggs,, a, small-time, circus, illusio...</td>\n",
       "      <td>[Fantasy, Adventure, Family]</td>\n",
       "      <td>[circus, witch, magic, hope, illusion, lost, m...</td>\n",
       "      <td>[WaltDisneyPictures, RothFilms]</td>\n",
       "      <td>[JamesFranco, MilaKunis, RachelWeisz, Michelle...</td>\n",
       "      <td>[SamRaimi, JoeRoth, MitchellKapner, DavidLinds...</td>\n",
       "    </tr>\n",
       "    <tr>\n",
       "      <th>38</th>\n",
       "      <td>102382</td>\n",
       "      <td>The Amazing Spider-Man 2</td>\n",
       "      <td>[For, Peter, Parker,, life, is, busy., Between...</td>\n",
       "      <td>[Action, Adventure, Fantasy]</td>\n",
       "      <td>[obsession, marvelcomic, sequel, basedoncomicb...</td>\n",
       "      <td>[ColumbiaPictures, MarvelEnterprises, AviAradP...</td>\n",
       "      <td>[AndrewGarfield, EmmaStone, JamieFoxx, DaneDeH...</td>\n",
       "      <td>[AviArad, AlexKurtzman, RobertoOrci, MarcWebb,...</td>\n",
       "    </tr>\n",
       "    <tr>\n",
       "      <th>39</th>\n",
       "      <td>20526</td>\n",
       "      <td>TRON: Legacy</td>\n",
       "      <td>[Sam, Flynn,, the, tech-savvy, and, daring, so...</td>\n",
       "      <td>[Adventure, Action, ScienceFiction]</td>\n",
       "      <td>[artificialintelligence, secretidentity, compu...</td>\n",
       "      <td>[WaltDisneyPictures, LivePlanet, PranaStudios,...</td>\n",
       "      <td>[GarrettHedlund, JeffBridges, OliviaWilde, Bru...</td>\n",
       "      <td>[StevenLisberger, JeffreySilver, SeanBailey, R...</td>\n",
       "    </tr>\n",
       "    <tr>\n",
       "      <th>40</th>\n",
       "      <td>49013</td>\n",
       "      <td>Cars 2</td>\n",
       "      <td>[Star, race, car, Lightning, McQueen, and, his...</td>\n",
       "      <td>[Animation, Family, Adventure, Comedy]</td>\n",
       "      <td>[carrace, sequel, comedy, anthropomorphism, be...</td>\n",
       "      <td>[WaltDisneyPictures, PixarAnimationStudios]</td>\n",
       "      <td>[OwenWilson, LarrytheCableGuy, MichaelCaine, E...</td>\n",
       "      <td>[JohnLasseter, BradLewis, BenQueen, DeniseReam]</td>\n",
       "    </tr>\n",
       "    <tr>\n",
       "      <th>41</th>\n",
       "      <td>44912</td>\n",
       "      <td>Green Lantern</td>\n",
       "      <td>[For, centuries,, a, small, but, powerful, for...</td>\n",
       "      <td>[Adventure, Action, Thriller, ScienceFiction]</td>\n",
       "      <td>[dccomics, transformation, superhero, alien, a...</td>\n",
       "      <td>[DeLinePictures, WarnerBros., DCEntertainment]</td>\n",
       "      <td>[RyanReynolds, BlakeLively, PeterSarsgaard, Ti...</td>\n",
       "      <td>[MichaelGoldenberg, MartinCampbell, DonaldDeLi...</td>\n",
       "    </tr>\n",
       "    <tr>\n",
       "      <th>42</th>\n",
       "      <td>10193</td>\n",
       "      <td>Toy Story 3</td>\n",
       "      <td>[Woody,, Buzz,, and, the, rest, of, Andy's, to...</td>\n",
       "      <td>[Animation, Family, Comedy]</td>\n",
       "      <td>[hostage, college, toy, barbie, animation, esc...</td>\n",
       "      <td>[WaltDisneyPictures, PixarAnimationStudios]</td>\n",
       "      <td>[TomHanks, TimAllen, NedBeatty, JoanCusack, Mi...</td>\n",
       "      <td>[LeeUnkrich, JohnLasseter, DarlaK.Anderson, Mi...</td>\n",
       "    </tr>\n",
       "    <tr>\n",
       "      <th>43</th>\n",
       "      <td>534</td>\n",
       "      <td>Terminator Salvation</td>\n",
       "      <td>[All, grown, up, in, post-apocalyptic, 2018,, ...</td>\n",
       "      <td>[Action, ScienceFiction, Thriller]</td>\n",
       "      <td>[savingtheworld, artificialintelligence, proph...</td>\n",
       "      <td>[ColumbiaPictures, TheHalcyonCompany, Wonderla...</td>\n",
       "      <td>[ChristianBale, SamWorthington, AntonYelchin, ...</td>\n",
       "      <td>[McG, MoritzBorman, JeffreySilver, DerekAnders...</td>\n",
       "    </tr>\n",
       "    <tr>\n",
       "      <th>44</th>\n",
       "      <td>168259</td>\n",
       "      <td>Furious 7</td>\n",
       "      <td>[Deckard, Shaw, seeks, revenge, against, Domin...</td>\n",
       "      <td>[Action]</td>\n",
       "      <td>[carrace, speed, revenge, suspense, car, race,...</td>\n",
       "      <td>[UniversalPictures, OriginalFilm, FujiTelevisi...</td>\n",
       "      <td>[VinDiesel, PaulWalker, DwayneJohnson, Michell...</td>\n",
       "      <td>[JamesWan, MichaelFottrell, NealH.Moritz, VinD...</td>\n",
       "    </tr>\n",
       "    <tr>\n",
       "      <th>45</th>\n",
       "      <td>72190</td>\n",
       "      <td>World War Z</td>\n",
       "      <td>[Life, for, former, United, Nations, investiga...</td>\n",
       "      <td>[Action, Drama, Horror, ScienceFiction, Thriller]</td>\n",
       "      <td>[dystopia, apocalypse, zombie, nuclearweapons,...</td>\n",
       "      <td>[ParamountPictures, GKFilms, SkydanceProductio...</td>\n",
       "      <td>[BradPitt, MireilleEnos, AbigailHargrove, Ster...</td>\n",
       "      <td>[BradPitt, IanBryce, MarcForster, DedeGardner,...</td>\n",
       "    </tr>\n",
       "    <tr>\n",
       "      <th>46</th>\n",
       "      <td>127585</td>\n",
       "      <td>X-Men: Days of Future Past</td>\n",
       "      <td>[The, ultimate, X-Men, ensemble, fights, a, wa...</td>\n",
       "      <td>[Action, Adventure, Fantasy, ScienceFiction]</td>\n",
       "      <td>[1970s, mutant, timetravel, marvelcomic, based...</td>\n",
       "      <td>[TwentiethCenturyFoxFilmCorporation, Donners'C...</td>\n",
       "      <td>[HughJackman, JamesMcAvoy, MichaelFassbender, ...</td>\n",
       "      <td>[LaurenShulerDonner, BryanSinger, SimonKinberg...</td>\n",
       "    </tr>\n",
       "    <tr>\n",
       "      <th>47</th>\n",
       "      <td>54138</td>\n",
       "      <td>Star Trek Into Darkness</td>\n",
       "      <td>[When, the, crew, of, the, Enterprise, is, cal...</td>\n",
       "      <td>[Action, Adventure, ScienceFiction]</td>\n",
       "      <td>[spacecraft, friendship, sequel, futuristic, s...</td>\n",
       "      <td>[ParamountPictures, SkydanceProductions, BadRo...</td>\n",
       "      <td>[ChrisPine, ZacharyQuinto, ZoeSaldana, KarlUrb...</td>\n",
       "      <td>[J.J.Abrams, AlexKurtzman, RobertoOrci, BryanB...</td>\n",
       "    </tr>\n",
       "    <tr>\n",
       "      <th>48</th>\n",
       "      <td>81005</td>\n",
       "      <td>Jack the Giant Slayer</td>\n",
       "      <td>[The, story, of, an, ancient, war, that, is, r...</td>\n",
       "      <td>[Action, Family, Fantasy]</td>\n",
       "      <td>[basedonfairytale, giant]</td>\n",
       "      <td>[NewLineCinema, OriginalFilm, LegendaryPicture...</td>\n",
       "      <td>[NicholasHoult, EleanorTomlinson, EwanMcGregor...</td>\n",
       "      <td>[BryanSinger, ChristopherMcQuarrie, DavidDobki...</td>\n",
       "    </tr>\n",
       "    <tr>\n",
       "      <th>49</th>\n",
       "      <td>64682</td>\n",
       "      <td>The Great Gatsby</td>\n",
       "      <td>[An, adaptation, of, F., Scott, Fitzgerald's, ...</td>\n",
       "      <td>[Drama, Romance]</td>\n",
       "      <td>[basedonnovel, infidelity, obsession, hope, 3d]</td>\n",
       "      <td>[VillageRoadshowPictures, BazmarkFilms, Warner...</td>\n",
       "      <td>[LeonardoDiCaprio, TobeyMaguire, CareyMulligan...</td>\n",
       "      <td>[BazLuhrmann, CatherineMartin, CraigPearce, Ca...</td>\n",
       "    </tr>\n",
       "  </tbody>\n",
       "</table>\n",
       "</div>"
      ],
      "text/plain": [
       "    movie_id                                        title  \\\n",
       "0      19995                                       Avatar   \n",
       "1        285     Pirates of the Caribbean: At World's End   \n",
       "2     206647                                      Spectre   \n",
       "3      49026                        The Dark Knight Rises   \n",
       "4      49529                                  John Carter   \n",
       "5        559                                 Spider-Man 3   \n",
       "6      38757                                      Tangled   \n",
       "7      99861                      Avengers: Age of Ultron   \n",
       "8        767       Harry Potter and the Half-Blood Prince   \n",
       "9     209112           Batman v Superman: Dawn of Justice   \n",
       "10      1452                             Superman Returns   \n",
       "11     10764                            Quantum of Solace   \n",
       "12        58   Pirates of the Caribbean: Dead Man's Chest   \n",
       "13     57201                              The Lone Ranger   \n",
       "14     49521                                 Man of Steel   \n",
       "15      2454     The Chronicles of Narnia: Prince Caspian   \n",
       "16     24428                                 The Avengers   \n",
       "17      1865  Pirates of the Caribbean: On Stranger Tides   \n",
       "18     41154                               Men in Black 3   \n",
       "19    122917    The Hobbit: The Battle of the Five Armies   \n",
       "20      1930                       The Amazing Spider-Man   \n",
       "21     20662                                   Robin Hood   \n",
       "22     57158          The Hobbit: The Desolation of Smaug   \n",
       "23      2268                           The Golden Compass   \n",
       "24       254                                    King Kong   \n",
       "25       597                                      Titanic   \n",
       "26    271110                   Captain America: Civil War   \n",
       "27     44833                                   Battleship   \n",
       "28    135397                               Jurassic World   \n",
       "29     37724                                      Skyfall   \n",
       "30       558                                 Spider-Man 2   \n",
       "31     68721                                   Iron Man 3   \n",
       "32     12155                          Alice in Wonderland   \n",
       "33     36668                        X-Men: The Last Stand   \n",
       "34     62211                          Monsters University   \n",
       "35      8373          Transformers: Revenge of the Fallen   \n",
       "36     91314              Transformers: Age of Extinction   \n",
       "37     68728                   Oz: The Great and Powerful   \n",
       "38    102382                     The Amazing Spider-Man 2   \n",
       "39     20526                                 TRON: Legacy   \n",
       "40     49013                                       Cars 2   \n",
       "41     44912                                Green Lantern   \n",
       "42     10193                                  Toy Story 3   \n",
       "43       534                         Terminator Salvation   \n",
       "44    168259                                    Furious 7   \n",
       "45     72190                                  World War Z   \n",
       "46    127585                   X-Men: Days of Future Past   \n",
       "47     54138                      Star Trek Into Darkness   \n",
       "48     81005                        Jack the Giant Slayer   \n",
       "49     64682                             The Great Gatsby   \n",
       "\n",
       "                                             overview  \\\n",
       "0   [In, the, 22nd, century,, a, paraplegic, Marin...   \n",
       "1   [Captain, Barbossa,, long, believed, to, be, d...   \n",
       "2   [A, cryptic, message, from, Bond’s, past, send...   \n",
       "3   [Following, the, death, of, District, Attorney...   \n",
       "4   [John, Carter, is, a, war-weary,, former, mili...   \n",
       "5   [The, seemingly, invincible, Spider-Man, goes,...   \n",
       "6   [When, the, kingdom's, most, wanted-and, most,...   \n",
       "7   [When, Tony, Stark, tries, to, jumpstart, a, d...   \n",
       "8   [As, Harry, begins, his, sixth, year, at, Hogw...   \n",
       "9   [Fearing, the, actions, of, a, god-like, Super...   \n",
       "10  [Superman, returns, to, discover, his, 5-year,...   \n",
       "11  [Quantum, of, Solace, continues, the, adventur...   \n",
       "12  [Captain, Jack, Sparrow, works, his, way, out,...   \n",
       "13  [The, Texas, Rangers, chase, down, a, gang, of...   \n",
       "14  [A, young, boy, learns, that, he, has, extraor...   \n",
       "15  [One, year, after, their, incredible, adventur...   \n",
       "16  [When, an, unexpected, enemy, emerges, and, th...   \n",
       "17  [Captain, Jack, Sparrow, crosses, paths, with,...   \n",
       "18  [Agents, J, (Will, Smith), and, K, (Tommy, Lee...   \n",
       "19  [Immediately, after, the, events, of, The, Des...   \n",
       "20  [Peter, Parker, is, an, outcast, high, schoole...   \n",
       "21  [When, soldier, Robin, happens, upon, the, dyi...   \n",
       "22  [The, Dwarves,, Bilbo, and, Gandalf, have, suc...   \n",
       "23  [After, overhearing, a, shocking, secret,, pre...   \n",
       "24  [In, 1933, New, York,, an, overly, ambitious, ...   \n",
       "25  [84, years, later,, a, 101-year-old, woman, na...   \n",
       "26  [Following, the, events, of, Age, of, Ultron,,...   \n",
       "27  [When, mankind, beams, a, radio, signal, into,...   \n",
       "28  [Twenty-two, years, after, the, events, of, Ju...   \n",
       "29  [When, Bond's, latest, assignment, goes, grave...   \n",
       "30  [Peter, Parker, is, going, through, a, major, ...   \n",
       "31  [When, Tony, Stark's, world, is, torn, apart, ...   \n",
       "32  [Alice,, an, unpretentious, and, individual, 1...   \n",
       "33  [When, a, cure, is, found, to, treat, mutation...   \n",
       "34  [A, look, at, the, relationship, between, Mike...   \n",
       "35  [Sam, Witwicky, leaves, the, Autobots, behind,...   \n",
       "36  [As, humanity, picks, up, the, pieces,, follow...   \n",
       "37  [Oscar, Diggs,, a, small-time, circus, illusio...   \n",
       "38  [For, Peter, Parker,, life, is, busy., Between...   \n",
       "39  [Sam, Flynn,, the, tech-savvy, and, daring, so...   \n",
       "40  [Star, race, car, Lightning, McQueen, and, his...   \n",
       "41  [For, centuries,, a, small, but, powerful, for...   \n",
       "42  [Woody,, Buzz,, and, the, rest, of, Andy's, to...   \n",
       "43  [All, grown, up, in, post-apocalyptic, 2018,, ...   \n",
       "44  [Deckard, Shaw, seeks, revenge, against, Domin...   \n",
       "45  [Life, for, former, United, Nations, investiga...   \n",
       "46  [The, ultimate, X-Men, ensemble, fights, a, wa...   \n",
       "47  [When, the, crew, of, the, Enterprise, is, cal...   \n",
       "48  [The, story, of, an, ancient, war, that, is, r...   \n",
       "49  [An, adaptation, of, F., Scott, Fitzgerald's, ...   \n",
       "\n",
       "                                               genres  \\\n",
       "0        [Action, Adventure, Fantasy, ScienceFiction]   \n",
       "1                        [Adventure, Fantasy, Action]   \n",
       "2                          [Action, Adventure, Crime]   \n",
       "3                    [Action, Crime, Drama, Thriller]   \n",
       "4                 [Action, Adventure, ScienceFiction]   \n",
       "5                        [Fantasy, Action, Adventure]   \n",
       "6                                 [Animation, Family]   \n",
       "7                 [Action, Adventure, ScienceFiction]   \n",
       "8                        [Adventure, Fantasy, Family]   \n",
       "9                        [Action, Adventure, Fantasy]   \n",
       "10       [Adventure, Fantasy, Action, ScienceFiction]   \n",
       "11               [Adventure, Action, Thriller, Crime]   \n",
       "12                       [Adventure, Fantasy, Action]   \n",
       "13                       [Action, Adventure, Western]   \n",
       "14       [Action, Adventure, Fantasy, ScienceFiction]   \n",
       "15                       [Adventure, Family, Fantasy]   \n",
       "16                [ScienceFiction, Action, Adventure]   \n",
       "17                       [Adventure, Action, Fantasy]   \n",
       "18                   [Action, Comedy, ScienceFiction]   \n",
       "19                       [Action, Adventure, Fantasy]   \n",
       "20                       [Action, Adventure, Fantasy]   \n",
       "21                                [Action, Adventure]   \n",
       "22                               [Adventure, Fantasy]   \n",
       "23                               [Adventure, Fantasy]   \n",
       "24                         [Adventure, Drama, Action]   \n",
       "25                         [Drama, Romance, Thriller]   \n",
       "26                [Adventure, Action, ScienceFiction]   \n",
       "27      [Thriller, Action, Adventure, ScienceFiction]   \n",
       "28      [Action, Adventure, ScienceFiction, Thriller]   \n",
       "29                      [Action, Adventure, Thriller]   \n",
       "30                       [Action, Adventure, Fantasy]   \n",
       "31                [Action, Adventure, ScienceFiction]   \n",
       "32                       [Family, Fantasy, Adventure]   \n",
       "33      [Adventure, Action, ScienceFiction, Thriller]   \n",
       "34                                [Animation, Family]   \n",
       "35                [ScienceFiction, Action, Adventure]   \n",
       "36                [ScienceFiction, Action, Adventure]   \n",
       "37                       [Fantasy, Adventure, Family]   \n",
       "38                       [Action, Adventure, Fantasy]   \n",
       "39                [Adventure, Action, ScienceFiction]   \n",
       "40             [Animation, Family, Adventure, Comedy]   \n",
       "41      [Adventure, Action, Thriller, ScienceFiction]   \n",
       "42                        [Animation, Family, Comedy]   \n",
       "43                 [Action, ScienceFiction, Thriller]   \n",
       "44                                           [Action]   \n",
       "45  [Action, Drama, Horror, ScienceFiction, Thriller]   \n",
       "46       [Action, Adventure, Fantasy, ScienceFiction]   \n",
       "47                [Action, Adventure, ScienceFiction]   \n",
       "48                          [Action, Family, Fantasy]   \n",
       "49                                   [Drama, Romance]   \n",
       "\n",
       "                                             keywords  \\\n",
       "0   [cultureclash, future, spacewar, spacecolony, ...   \n",
       "1   [ocean, drugabuse, exoticisland, eastindiatrad...   \n",
       "2   [spy, basedonnovel, secretagent, sequel, mi6, ...   \n",
       "3   [dccomics, crimefighter, terrorist, secretiden...   \n",
       "4   [basedonnovel, mars, medallion, spacetravel, p...   \n",
       "5   [dualidentity, amnesia, sandstorm, loveofone's...   \n",
       "6   [hostage, magic, horse, fairytale, musical, pr...   \n",
       "7   [marvelcomic, sequel, superhero, basedoncomicb...   \n",
       "8   [witch, magic, broom, schoolofwitchcraft, wiza...   \n",
       "9   [dccomics, vigilante, superhero, basedoncomicb...   \n",
       "10  [savingtheworld, dccomics, invulnerability, se...   \n",
       "11  [killing, undercover, secretagent, britishsecr...   \n",
       "12  [witch, fortuneteller, bondage, exoticisland, ...   \n",
       "13  [texas, horse, survivor, texasranger, partner,...   \n",
       "14  [savingtheworld, dccomics, superhero, basedonc...   \n",
       "15  [basedonnovel, fictionalplace, brothersisterre...   \n",
       "16  [newyork, shield, marvelcomic, superhero, base...   \n",
       "17  [sea, captain, mutiny, sword, primeminister, s...   \n",
       "18  [timetravel, timemachine, alien, fictionalgove...   \n",
       "19  [corruption, elves, dwarves, orcs, middle-eart...   \n",
       "20  [lossoffather, vigilante, serum, marvelcomic, ...   \n",
       "21  [robinhood, archer, knight, sherwoodforest, bo...   \n",
       "22  [elves, dwarves, orcs, hobbit, dragon, wizard,...   \n",
       "23  [england, compass, experiment, lordship, uncle...   \n",
       "24  [filmbusiness, screenplay, showbusiness, filmm...   \n",
       "25  [shipwreck, iceberg, ship, panic, titanic, oce...   \n",
       "26  [civilwar, war, marvelcomic, sequel, superhero...   \n",
       "27  [fight, u.s.navy, mindreading, hongkong, socce...   \n",
       "28  [monster, dna, tyrannosaurusrex, velociraptor,...   \n",
       "29  [spy, secretagent, sociopath, killer, artgalle...   \n",
       "30  [dualidentity, loveofone'slife, pizzaboy, marv...   \n",
       "31  [terrorist, waronterror, tennessee, malibu, ma...   \n",
       "32  [basedonnovel, fictionalplace, queen, fantasy,...   \n",
       "33  [mutant, marvelcomic, basedoncomicbook, superh...   \n",
       "34  [monster, dormitory, games, animation, bestfri...   \n",
       "35  [egypt, sun, chaos, symbol, artifact, transfor...   \n",
       "36  [sequel, alien, transformers, giantrobot, robo...   \n",
       "37  [circus, witch, magic, hope, illusion, lost, m...   \n",
       "38  [obsession, marvelcomic, sequel, basedoncomicb...   \n",
       "39  [artificialintelligence, secretidentity, compu...   \n",
       "40  [carrace, sequel, comedy, anthropomorphism, be...   \n",
       "41  [dccomics, transformation, superhero, alien, a...   \n",
       "42  [hostage, college, toy, barbie, animation, esc...   \n",
       "43  [savingtheworld, artificialintelligence, proph...   \n",
       "44  [carrace, speed, revenge, suspense, car, race,...   \n",
       "45  [dystopia, apocalypse, zombie, nuclearweapons,...   \n",
       "46  [1970s, mutant, timetravel, marvelcomic, based...   \n",
       "47  [spacecraft, friendship, sequel, futuristic, s...   \n",
       "48                          [basedonfairytale, giant]   \n",
       "49    [basedonnovel, infidelity, obsession, hope, 3d]   \n",
       "\n",
       "                                 production_companies  \\\n",
       "0   [IngeniousFilmPartners, TwentiethCenturyFoxFil...   \n",
       "1   [WaltDisneyPictures, JerryBruckheimerFilms, Se...   \n",
       "2                     [ColumbiaPictures, Danjaq, B24]   \n",
       "3   [LegendaryPictures, WarnerBros., DCEntertainme...   \n",
       "4                                [WaltDisneyPictures]   \n",
       "5   [ColumbiaPictures, LauraZiskinProductions, Mar...   \n",
       "6    [WaltDisneyPictures, WaltDisneyAnimationStudios]   \n",
       "7   [MarvelStudios, PrimeFocus, RevolutionSunStudios]   \n",
       "8                          [WarnerBros., HeydayFilms]   \n",
       "9   [DCComics, AtlasEntertainment, WarnerBros., DC...   \n",
       "10  [DCComics, LegendaryPictures, WarnerBros., Bad...   \n",
       "11                                   [EonProductions]   \n",
       "12  [WaltDisneyPictures, JerryBruckheimerFilms, Se...   \n",
       "13  [WaltDisneyPictures, JerryBruckheimerFilms, In...   \n",
       "14  [LegendaryPictures, WarnerBros., DCEntertainme...   \n",
       "15  [WaltDisney, WaldenMedia, StillkingFilms, Ozum...   \n",
       "16                 [ParamountPictures, MarvelStudios]   \n",
       "17  [WaltDisneyPictures, JerryBruckheimerFilms, Mo...   \n",
       "18  [AmblinEntertainment, MediaMagikEntertainment,...   \n",
       "19  [WingNutFilms, NewLineCinema, WarnerBros.Pictu...   \n",
       "20  [ColumbiaPictures, LauraZiskinProductions, Mar...   \n",
       "21  [ImagineEntertainment, UniversalPictures, Scot...   \n",
       "22  [WingNutFilms, NewLineCinema, WarnerBros.Pictu...   \n",
       "23  [NewLineCinema, IngeniousFilmPartners, Depthof...   \n",
       "24  [WingNutFilms, UniversalPictures, BigPrimatePi...   \n",
       "25  [ParamountPictures, TwentiethCenturyFoxFilmCor...   \n",
       "26  [StudioBabelsberg, MarvelStudios, WaltDisneySt...   \n",
       "27  [UniversalPictures, Hasbro, BluegrassFilms, Fi...   \n",
       "28  [UniversalStudios, AmblinEntertainment, Legend...   \n",
       "29                                 [ColumbiaPictures]   \n",
       "30  [ColumbiaPictures, LauraZiskinProductions, Mar...   \n",
       "31                                    [MarvelStudios]   \n",
       "32  [WaltDisneyPictures, TeamTodd, TimBurtonProduc...   \n",
       "33  [IngeniousFilmPartners, TwentiethCenturyFoxFil...   \n",
       "34        [WaltDisneyPictures, PixarAnimationStudios]   \n",
       "35  [ParamountPictures, DreamWorksSKG, AmblinEnter...   \n",
       "36  [ParamountPictures, AmblinEntertainment, DiBon...   \n",
       "37                    [WaltDisneyPictures, RothFilms]   \n",
       "38  [ColumbiaPictures, MarvelEnterprises, AviAradP...   \n",
       "39  [WaltDisneyPictures, LivePlanet, PranaStudios,...   \n",
       "40        [WaltDisneyPictures, PixarAnimationStudios]   \n",
       "41     [DeLinePictures, WarnerBros., DCEntertainment]   \n",
       "42        [WaltDisneyPictures, PixarAnimationStudios]   \n",
       "43  [ColumbiaPictures, TheHalcyonCompany, Wonderla...   \n",
       "44  [UniversalPictures, OriginalFilm, FujiTelevisi...   \n",
       "45  [ParamountPictures, GKFilms, SkydanceProductio...   \n",
       "46  [TwentiethCenturyFoxFilmCorporation, Donners'C...   \n",
       "47  [ParamountPictures, SkydanceProductions, BadRo...   \n",
       "48  [NewLineCinema, OriginalFilm, LegendaryPicture...   \n",
       "49  [VillageRoadshowPictures, BazmarkFilms, Warner...   \n",
       "\n",
       "                                                 cast  \\\n",
       "0   [SamWorthington, ZoeSaldana, SigourneyWeaver, ...   \n",
       "1   [JohnnyDepp, OrlandoBloom, KeiraKnightley, Ste...   \n",
       "2   [DanielCraig, ChristophWaltz, LéaSeydoux, Ralp...   \n",
       "3   [ChristianBale, MichaelCaine, GaryOldman, Anne...   \n",
       "4   [TaylorKitsch, LynnCollins, SamanthaMorton, Wi...   \n",
       "5   [TobeyMaguire, KirstenDunst, JamesFranco, Thom...   \n",
       "6   [ZacharyLevi, MandyMoore, DonnaMurphy, RonPerl...   \n",
       "7   [RobertDowneyJr., ChrisHemsworth, MarkRuffalo,...   \n",
       "8   [DanielRadcliffe, RupertGrint, EmmaWatson, Tom...   \n",
       "9   [BenAffleck, HenryCavill, GalGadot, AmyAdams, ...   \n",
       "10  [BrandonRouth, KevinSpacey, KateBosworth, Jame...   \n",
       "11  [DanielCraig, OlgaKurylenko, MathieuAmalric, J...   \n",
       "12  [JohnnyDepp, OrlandoBloom, KeiraKnightley, Ste...   \n",
       "13  [JohnnyDepp, ArmieHammer, WilliamFichtner, Hel...   \n",
       "14  [HenryCavill, AmyAdams, MichaelShannon, KevinC...   \n",
       "15  [BenBarnes, WilliamMoseley, AnnaPopplewell, Sk...   \n",
       "16  [RobertDowneyJr., ChrisEvans, MarkRuffalo, Chr...   \n",
       "17  [JohnnyDepp, PenélopeCruz, IanMcShane, KevinMc...   \n",
       "18  [WillSmith, TommyLeeJones, JoshBrolin, Michael...   \n",
       "19  [MartinFreeman, IanMcKellen, RichardArmitage, ...   \n",
       "20  [AndrewGarfield, EmmaStone, RhysIfans, DenisLe...   \n",
       "21  [RussellCrowe, CateBlanchett, MaxvonSydow, Wil...   \n",
       "22  [MartinFreeman, IanMcKellen, RichardArmitage, ...   \n",
       "23  [DakotaBlueRichards, NicoleKidman, DanielCraig...   \n",
       "24  [NaomiWatts, JackBlack, AdrienBrody, ThomasKre...   \n",
       "25  [KateWinslet, LeonardoDiCaprio, FrancesFisher,...   \n",
       "26  [ChrisEvans, RobertDowneyJr., ScarlettJohansso...   \n",
       "27  [TaylorKitsch, AlexanderSkarsgård, Rihanna, Br...   \n",
       "28  [ChrisPratt, BryceDallasHoward, IrrfanKhan, Vi...   \n",
       "29  [DanielCraig, JudiDench, JavierBardem, RalphFi...   \n",
       "30  [TobeyMaguire, KirstenDunst, JamesFranco, Alfr...   \n",
       "31  [RobertDowneyJr., GwynethPaltrow, DonCheadle, ...   \n",
       "32  [MiaWasikowska, JohnnyDepp, AnneHathaway, Hele...   \n",
       "33  [HughJackman, HalleBerry, IanMcKellen, Patrick...   \n",
       "34  [BillyCrystal, JohnGoodman, SteveBuscemi, Hele...   \n",
       "35  [ShiaLaBeouf, MeganFox, JoshDuhamel, RainnWils...   \n",
       "36  [MarkWahlberg, StanleyTucci, KelseyGrammer, Ni...   \n",
       "37  [JamesFranco, MilaKunis, RachelWeisz, Michelle...   \n",
       "38  [AndrewGarfield, EmmaStone, JamieFoxx, DaneDeH...   \n",
       "39  [GarrettHedlund, JeffBridges, OliviaWilde, Bru...   \n",
       "40  [OwenWilson, LarrytheCableGuy, MichaelCaine, E...   \n",
       "41  [RyanReynolds, BlakeLively, PeterSarsgaard, Ti...   \n",
       "42  [TomHanks, TimAllen, NedBeatty, JoanCusack, Mi...   \n",
       "43  [ChristianBale, SamWorthington, AntonYelchin, ...   \n",
       "44  [VinDiesel, PaulWalker, DwayneJohnson, Michell...   \n",
       "45  [BradPitt, MireilleEnos, AbigailHargrove, Ster...   \n",
       "46  [HughJackman, JamesMcAvoy, MichaelFassbender, ...   \n",
       "47  [ChrisPine, ZacharyQuinto, ZoeSaldana, KarlUrb...   \n",
       "48  [NicholasHoult, EleanorTomlinson, EwanMcGregor...   \n",
       "49  [LeonardoDiCaprio, TobeyMaguire, CareyMulligan...   \n",
       "\n",
       "                                                 crew  \n",
       "0                           [JamesCameron, JonLandau]  \n",
       "1   [GoreVerbinski, JerryBruckheimer, TedElliott, ...  \n",
       "2   [SamMendes, JohnLogan, BarbaraBroccoli, Robert...  \n",
       "3   [CharlesRoven, ChristopherNolan, JonathanNolan...  \n",
       "4   [AndrewStanton, ColinWilson, JimMorris, Lindse...  \n",
       "5   [SamRaimi, LauraZiskin, AviArad, AlvinSargent,...  \n",
       "6   [DanFogelman, RoyConli, ByronHoward, NathanGreno]  \n",
       "7                            [KevinFeige, JossWhedon]  \n",
       "8   [SteveKloves, DavidHeyman, DavidYates, DavidBa...  \n",
       "9   [CharlesRoven, DavidS.Goyer, ZackSnyder, Debor...  \n",
       "10  [JonPeters, GilbertAdler, BryanSinger, Michael...  \n",
       "11  [PaulHaggis, BarbaraBroccoli, MarcForster, Rob...  \n",
       "12  [GoreVerbinski, JerryBruckheimer, TedElliott, ...  \n",
       "13  [GoreVerbinski, JerryBruckheimer, TedElliott, ...  \n",
       "14  [CharlesRoven, ChristopherNolan, EmmaThomas, D...  \n",
       "15  [MarkJohnson, AndrewAdamson, PhilipSteuer, Chr...  \n",
       "16                           [KevinFeige, JossWhedon]  \n",
       "17  [JerryBruckheimer, TedElliott, TerryRossio, Ro...  \n",
       "18  [WalterF.Parkes, BarrySonnenfeld, LaurieMacDon...  \n",
       "19  [PeterJackson, FranWalsh, CarolynneCunningham,...  \n",
       "20  [LauraZiskin, AviArad, AlvinSargent, SteveKlov...  \n",
       "21  [BrianGrazer, RidleyScott, RussellCrowe, Brian...  \n",
       "22  [PeterJackson, FranWalsh, PhilippaBoyens, Caro...  \n",
       "23            [ChrisWeitz, BillCarraro, DeborahForte]  \n",
       "24  [PeterJackson, FranWalsh, JanBlenkin, Carolynn...  \n",
       "25                          [JamesCameron, JonLandau]  \n",
       "26  [ChristopherMarkus, StephenMcFeely, KevinFeige...  \n",
       "27  [DuncanHenderson, ScottStuber, BrianGoldner, P...  \n",
       "28  [FrankMarshall, PatrickCrowley, RickJaffa, Ama...  \n",
       "29      [SamMendes, BarbaraBroccoli, MichaelG.Wilson]  \n",
       "30  [SamRaimi, LauraZiskin, AviArad, AlvinSargent,...  \n",
       "31               [ShaneBlack, KevinFeige, DrewPearce]  \n",
       "32  [TimBurton, JenniferTodd, SuzanneTodd, Richard...  \n",
       "33  [RalphWinter, LaurenShulerDonner, AviArad, Sim...  \n",
       "34  [KoriRae, DanielGerson, RobertL.Baird, DanScan...  \n",
       "35  [MichaelBay, DonMurphy, IanBryce, LorenzodiBon...  \n",
       "36  [MichaelBay, DonMurphy, IanBryce, LorenzodiBon...  \n",
       "37  [SamRaimi, JoeRoth, MitchellKapner, DavidLinds...  \n",
       "38  [AviArad, AlexKurtzman, RobertoOrci, MarcWebb,...  \n",
       "39  [StevenLisberger, JeffreySilver, SeanBailey, R...  \n",
       "40    [JohnLasseter, BradLewis, BenQueen, DeniseReam]  \n",
       "41  [MichaelGoldenberg, MartinCampbell, DonaldDeLi...  \n",
       "42  [LeeUnkrich, JohnLasseter, DarlaK.Anderson, Mi...  \n",
       "43  [McG, MoritzBorman, JeffreySilver, DerekAnders...  \n",
       "44  [JamesWan, MichaelFottrell, NealH.Moritz, VinD...  \n",
       "45  [BradPitt, IanBryce, MarcForster, DedeGardner,...  \n",
       "46  [LaurenShulerDonner, BryanSinger, SimonKinberg...  \n",
       "47  [J.J.Abrams, AlexKurtzman, RobertoOrci, BryanB...  \n",
       "48  [BryanSinger, ChristopherMcQuarrie, DavidDobki...  \n",
       "49  [BazLuhrmann, CatherineMartin, CraigPearce, Ca...  "
      ]
     },
     "execution_count": 76,
     "metadata": {},
     "output_type": "execute_result"
    }
   ],
   "source": [
    "movies.head(50)"
   ]
  },
  {
   "cell_type": "markdown",
   "metadata": {},
   "source": [
    "## Creating our final dataframe\n",
    "Creating tag colum that joins overview,genres,keywords,cast and crew"
   ]
  },
  {
   "cell_type": "code",
   "execution_count": 77,
   "metadata": {
    "execution": {
     "iopub.execute_input": "2023-02-23T13:38:58.779642Z",
     "iopub.status.busy": "2023-02-23T13:38:58.779398Z",
     "iopub.status.idle": "2023-02-23T13:38:58.883399Z",
     "shell.execute_reply": "2023-02-23T13:38:58.882571Z",
     "shell.execute_reply.started": "2023-02-23T13:38:58.779619Z"
    }
   },
   "outputs": [
    {
     "data": {
      "text/html": [
       "<div>\n",
       "<style scoped>\n",
       "    .dataframe tbody tr th:only-of-type {\n",
       "        vertical-align: middle;\n",
       "    }\n",
       "\n",
       "    .dataframe tbody tr th {\n",
       "        vertical-align: top;\n",
       "    }\n",
       "\n",
       "    .dataframe thead th {\n",
       "        text-align: right;\n",
       "    }\n",
       "</style>\n",
       "<table border=\"1\" class=\"dataframe\">\n",
       "  <thead>\n",
       "    <tr style=\"text-align: right;\">\n",
       "      <th></th>\n",
       "      <th>movie_id</th>\n",
       "      <th>title</th>\n",
       "      <th>overview</th>\n",
       "      <th>genres</th>\n",
       "      <th>keywords</th>\n",
       "      <th>production_companies</th>\n",
       "      <th>cast</th>\n",
       "      <th>crew</th>\n",
       "      <th>tags</th>\n",
       "    </tr>\n",
       "  </thead>\n",
       "  <tbody>\n",
       "    <tr>\n",
       "      <th>0</th>\n",
       "      <td>19995</td>\n",
       "      <td>Avatar</td>\n",
       "      <td>[In, the, 22nd, century,, a, paraplegic, Marin...</td>\n",
       "      <td>[Action, Adventure, Fantasy, ScienceFiction]</td>\n",
       "      <td>[cultureclash, future, spacewar, spacecolony, ...</td>\n",
       "      <td>[IngeniousFilmPartners, TwentiethCenturyFoxFil...</td>\n",
       "      <td>[SamWorthington, ZoeSaldana, SigourneyWeaver, ...</td>\n",
       "      <td>[JamesCameron, JonLandau]</td>\n",
       "      <td>[In, the, 22nd, century,, a, paraplegic, Marin...</td>\n",
       "    </tr>\n",
       "    <tr>\n",
       "      <th>1</th>\n",
       "      <td>285</td>\n",
       "      <td>Pirates of the Caribbean: At World's End</td>\n",
       "      <td>[Captain, Barbossa,, long, believed, to, be, d...</td>\n",
       "      <td>[Adventure, Fantasy, Action]</td>\n",
       "      <td>[ocean, drugabuse, exoticisland, eastindiatrad...</td>\n",
       "      <td>[WaltDisneyPictures, JerryBruckheimerFilms, Se...</td>\n",
       "      <td>[JohnnyDepp, OrlandoBloom, KeiraKnightley, Ste...</td>\n",
       "      <td>[GoreVerbinski, JerryBruckheimer, TedElliott, ...</td>\n",
       "      <td>[Captain, Barbossa,, long, believed, to, be, d...</td>\n",
       "    </tr>\n",
       "    <tr>\n",
       "      <th>2</th>\n",
       "      <td>206647</td>\n",
       "      <td>Spectre</td>\n",
       "      <td>[A, cryptic, message, from, Bond’s, past, send...</td>\n",
       "      <td>[Action, Adventure, Crime]</td>\n",
       "      <td>[spy, basedonnovel, secretagent, sequel, mi6, ...</td>\n",
       "      <td>[ColumbiaPictures, Danjaq, B24]</td>\n",
       "      <td>[DanielCraig, ChristophWaltz, LéaSeydoux, Ralp...</td>\n",
       "      <td>[SamMendes, JohnLogan, BarbaraBroccoli, Robert...</td>\n",
       "      <td>[A, cryptic, message, from, Bond’s, past, send...</td>\n",
       "    </tr>\n",
       "    <tr>\n",
       "      <th>3</th>\n",
       "      <td>49026</td>\n",
       "      <td>The Dark Knight Rises</td>\n",
       "      <td>[Following, the, death, of, District, Attorney...</td>\n",
       "      <td>[Action, Crime, Drama, Thriller]</td>\n",
       "      <td>[dccomics, crimefighter, terrorist, secretiden...</td>\n",
       "      <td>[LegendaryPictures, WarnerBros., DCEntertainme...</td>\n",
       "      <td>[ChristianBale, MichaelCaine, GaryOldman, Anne...</td>\n",
       "      <td>[CharlesRoven, ChristopherNolan, JonathanNolan...</td>\n",
       "      <td>[Following, the, death, of, District, Attorney...</td>\n",
       "    </tr>\n",
       "    <tr>\n",
       "      <th>4</th>\n",
       "      <td>49529</td>\n",
       "      <td>John Carter</td>\n",
       "      <td>[John, Carter, is, a, war-weary,, former, mili...</td>\n",
       "      <td>[Action, Adventure, ScienceFiction]</td>\n",
       "      <td>[basedonnovel, mars, medallion, spacetravel, p...</td>\n",
       "      <td>[WaltDisneyPictures]</td>\n",
       "      <td>[TaylorKitsch, LynnCollins, SamanthaMorton, Wi...</td>\n",
       "      <td>[AndrewStanton, ColinWilson, JimMorris, Lindse...</td>\n",
       "      <td>[John, Carter, is, a, war-weary,, former, mili...</td>\n",
       "    </tr>\n",
       "    <tr>\n",
       "      <th>...</th>\n",
       "      <td>...</td>\n",
       "      <td>...</td>\n",
       "      <td>...</td>\n",
       "      <td>...</td>\n",
       "      <td>...</td>\n",
       "      <td>...</td>\n",
       "      <td>...</td>\n",
       "      <td>...</td>\n",
       "      <td>...</td>\n",
       "    </tr>\n",
       "    <tr>\n",
       "      <th>4804</th>\n",
       "      <td>9367</td>\n",
       "      <td>El Mariachi</td>\n",
       "      <td>[El, Mariachi, just, wants, to, play, his, gui...</td>\n",
       "      <td>[Action, Crime, Thriller]</td>\n",
       "      <td>[unitedstates–mexicobarrier, legs, arms, paper...</td>\n",
       "      <td>[ColumbiaPictures]</td>\n",
       "      <td>[CarlosGallardo, JaimedeHoyos, PeterMarquardt,...</td>\n",
       "      <td>[RobertRodriguez, CarlosGallardo]</td>\n",
       "      <td>[El, Mariachi, just, wants, to, play, his, gui...</td>\n",
       "    </tr>\n",
       "    <tr>\n",
       "      <th>4805</th>\n",
       "      <td>72766</td>\n",
       "      <td>Newlyweds</td>\n",
       "      <td>[A, newlywed, couple's, honeymoon, is, upended...</td>\n",
       "      <td>[Comedy, Romance]</td>\n",
       "      <td>[]</td>\n",
       "      <td>[]</td>\n",
       "      <td>[EdwardBurns, KerryBishé, MarshaDietlein, Cait...</td>\n",
       "      <td>[EdwardBurns, WilliamRexer, AaronLubin]</td>\n",
       "      <td>[A, newlywed, couple's, honeymoon, is, upended...</td>\n",
       "    </tr>\n",
       "    <tr>\n",
       "      <th>4806</th>\n",
       "      <td>231617</td>\n",
       "      <td>Signed, Sealed, Delivered</td>\n",
       "      <td>[\"Signed,, Sealed,, Delivered\", introduces, a,...</td>\n",
       "      <td>[Comedy, Drama, Romance, TVMovie]</td>\n",
       "      <td>[date, loveatfirstsight, narration, investigat...</td>\n",
       "      <td>[FrontStreetPictures, MuseEntertainmentEnterpr...</td>\n",
       "      <td>[EricMabius, KristinBooth, CrystalLowe, GeoffG...</td>\n",
       "      <td>[HarveyKahn, ScottSmith]</td>\n",
       "      <td>[\"Signed,, Sealed,, Delivered\", introduces, a,...</td>\n",
       "    </tr>\n",
       "    <tr>\n",
       "      <th>4807</th>\n",
       "      <td>126186</td>\n",
       "      <td>Shanghai Calling</td>\n",
       "      <td>[When, ambitious, New, York, attorney, Sam, is...</td>\n",
       "      <td>[]</td>\n",
       "      <td>[]</td>\n",
       "      <td>[]</td>\n",
       "      <td>[DanielHenney, ElizaCoupe, BillPaxton, AlanRuc...</td>\n",
       "      <td>[DanielHsia]</td>\n",
       "      <td>[When, ambitious, New, York, attorney, Sam, is...</td>\n",
       "    </tr>\n",
       "    <tr>\n",
       "      <th>4808</th>\n",
       "      <td>25975</td>\n",
       "      <td>My Date with Drew</td>\n",
       "      <td>[Ever, since, the, second, grade, when, he, fi...</td>\n",
       "      <td>[Documentary]</td>\n",
       "      <td>[obsession, camcorder, crush, dreamgirl]</td>\n",
       "      <td>[rustybearentertainment, luckycrowfilms]</td>\n",
       "      <td>[DrewBarrymore, BrianHerzlinger, CoreyFeldman,...</td>\n",
       "      <td>[BrianHerzlinger, JonGunn, BrettWinn]</td>\n",
       "      <td>[Ever, since, the, second, grade, when, he, fi...</td>\n",
       "    </tr>\n",
       "  </tbody>\n",
       "</table>\n",
       "<p>4806 rows × 9 columns</p>\n",
       "</div>"
      ],
      "text/plain": [
       "      movie_id                                     title  \\\n",
       "0        19995                                    Avatar   \n",
       "1          285  Pirates of the Caribbean: At World's End   \n",
       "2       206647                                   Spectre   \n",
       "3        49026                     The Dark Knight Rises   \n",
       "4        49529                               John Carter   \n",
       "...        ...                                       ...   \n",
       "4804      9367                               El Mariachi   \n",
       "4805     72766                                 Newlyweds   \n",
       "4806    231617                 Signed, Sealed, Delivered   \n",
       "4807    126186                          Shanghai Calling   \n",
       "4808     25975                         My Date with Drew   \n",
       "\n",
       "                                               overview  \\\n",
       "0     [In, the, 22nd, century,, a, paraplegic, Marin...   \n",
       "1     [Captain, Barbossa,, long, believed, to, be, d...   \n",
       "2     [A, cryptic, message, from, Bond’s, past, send...   \n",
       "3     [Following, the, death, of, District, Attorney...   \n",
       "4     [John, Carter, is, a, war-weary,, former, mili...   \n",
       "...                                                 ...   \n",
       "4804  [El, Mariachi, just, wants, to, play, his, gui...   \n",
       "4805  [A, newlywed, couple's, honeymoon, is, upended...   \n",
       "4806  [\"Signed,, Sealed,, Delivered\", introduces, a,...   \n",
       "4807  [When, ambitious, New, York, attorney, Sam, is...   \n",
       "4808  [Ever, since, the, second, grade, when, he, fi...   \n",
       "\n",
       "                                            genres  \\\n",
       "0     [Action, Adventure, Fantasy, ScienceFiction]   \n",
       "1                     [Adventure, Fantasy, Action]   \n",
       "2                       [Action, Adventure, Crime]   \n",
       "3                 [Action, Crime, Drama, Thriller]   \n",
       "4              [Action, Adventure, ScienceFiction]   \n",
       "...                                            ...   \n",
       "4804                     [Action, Crime, Thriller]   \n",
       "4805                             [Comedy, Romance]   \n",
       "4806             [Comedy, Drama, Romance, TVMovie]   \n",
       "4807                                            []   \n",
       "4808                                 [Documentary]   \n",
       "\n",
       "                                               keywords  \\\n",
       "0     [cultureclash, future, spacewar, spacecolony, ...   \n",
       "1     [ocean, drugabuse, exoticisland, eastindiatrad...   \n",
       "2     [spy, basedonnovel, secretagent, sequel, mi6, ...   \n",
       "3     [dccomics, crimefighter, terrorist, secretiden...   \n",
       "4     [basedonnovel, mars, medallion, spacetravel, p...   \n",
       "...                                                 ...   \n",
       "4804  [unitedstates–mexicobarrier, legs, arms, paper...   \n",
       "4805                                                 []   \n",
       "4806  [date, loveatfirstsight, narration, investigat...   \n",
       "4807                                                 []   \n",
       "4808           [obsession, camcorder, crush, dreamgirl]   \n",
       "\n",
       "                                   production_companies  \\\n",
       "0     [IngeniousFilmPartners, TwentiethCenturyFoxFil...   \n",
       "1     [WaltDisneyPictures, JerryBruckheimerFilms, Se...   \n",
       "2                       [ColumbiaPictures, Danjaq, B24]   \n",
       "3     [LegendaryPictures, WarnerBros., DCEntertainme...   \n",
       "4                                  [WaltDisneyPictures]   \n",
       "...                                                 ...   \n",
       "4804                                 [ColumbiaPictures]   \n",
       "4805                                                 []   \n",
       "4806  [FrontStreetPictures, MuseEntertainmentEnterpr...   \n",
       "4807                                                 []   \n",
       "4808           [rustybearentertainment, luckycrowfilms]   \n",
       "\n",
       "                                                   cast  \\\n",
       "0     [SamWorthington, ZoeSaldana, SigourneyWeaver, ...   \n",
       "1     [JohnnyDepp, OrlandoBloom, KeiraKnightley, Ste...   \n",
       "2     [DanielCraig, ChristophWaltz, LéaSeydoux, Ralp...   \n",
       "3     [ChristianBale, MichaelCaine, GaryOldman, Anne...   \n",
       "4     [TaylorKitsch, LynnCollins, SamanthaMorton, Wi...   \n",
       "...                                                 ...   \n",
       "4804  [CarlosGallardo, JaimedeHoyos, PeterMarquardt,...   \n",
       "4805  [EdwardBurns, KerryBishé, MarshaDietlein, Cait...   \n",
       "4806  [EricMabius, KristinBooth, CrystalLowe, GeoffG...   \n",
       "4807  [DanielHenney, ElizaCoupe, BillPaxton, AlanRuc...   \n",
       "4808  [DrewBarrymore, BrianHerzlinger, CoreyFeldman,...   \n",
       "\n",
       "                                                   crew  \\\n",
       "0                             [JamesCameron, JonLandau]   \n",
       "1     [GoreVerbinski, JerryBruckheimer, TedElliott, ...   \n",
       "2     [SamMendes, JohnLogan, BarbaraBroccoli, Robert...   \n",
       "3     [CharlesRoven, ChristopherNolan, JonathanNolan...   \n",
       "4     [AndrewStanton, ColinWilson, JimMorris, Lindse...   \n",
       "...                                                 ...   \n",
       "4804                  [RobertRodriguez, CarlosGallardo]   \n",
       "4805            [EdwardBurns, WilliamRexer, AaronLubin]   \n",
       "4806                           [HarveyKahn, ScottSmith]   \n",
       "4807                                       [DanielHsia]   \n",
       "4808              [BrianHerzlinger, JonGunn, BrettWinn]   \n",
       "\n",
       "                                                   tags  \n",
       "0     [In, the, 22nd, century,, a, paraplegic, Marin...  \n",
       "1     [Captain, Barbossa,, long, believed, to, be, d...  \n",
       "2     [A, cryptic, message, from, Bond’s, past, send...  \n",
       "3     [Following, the, death, of, District, Attorney...  \n",
       "4     [John, Carter, is, a, war-weary,, former, mili...  \n",
       "...                                                 ...  \n",
       "4804  [El, Mariachi, just, wants, to, play, his, gui...  \n",
       "4805  [A, newlywed, couple's, honeymoon, is, upended...  \n",
       "4806  [\"Signed,, Sealed,, Delivered\", introduces, a,...  \n",
       "4807  [When, ambitious, New, York, attorney, Sam, is...  \n",
       "4808  [Ever, since, the, second, grade, when, he, fi...  \n",
       "\n",
       "[4806 rows x 9 columns]"
      ]
     },
     "execution_count": 77,
     "metadata": {},
     "output_type": "execute_result"
    }
   ],
   "source": [
    "movies['tags']=movies['overview']+movies['genres']+movies['keywords']+movies['production_companies']+movies['cast']+movies['crew']\n",
    "movies"
   ]
  },
  {
   "cell_type": "markdown",
   "metadata": {},
   "source": [
    "## Final Dataframe\n",
    "Since the newly-created tags column already contains all the necessary information for creating our recommendation system, our\n",
    "dataframe will only contain this column, past the title column."
   ]
  },
  {
   "cell_type": "code",
   "execution_count": 78,
   "metadata": {
    "execution": {
     "iopub.execute_input": "2023-02-23T13:38:58.885186Z",
     "iopub.status.busy": "2023-02-23T13:38:58.884765Z",
     "iopub.status.idle": "2023-02-23T13:38:58.908202Z",
     "shell.execute_reply": "2023-02-23T13:38:58.907524Z",
     "shell.execute_reply.started": "2023-02-23T13:38:58.885158Z"
    }
   },
   "outputs": [
    {
     "data": {
      "text/html": [
       "<div>\n",
       "<style scoped>\n",
       "    .dataframe tbody tr th:only-of-type {\n",
       "        vertical-align: middle;\n",
       "    }\n",
       "\n",
       "    .dataframe tbody tr th {\n",
       "        vertical-align: top;\n",
       "    }\n",
       "\n",
       "    .dataframe thead th {\n",
       "        text-align: right;\n",
       "    }\n",
       "</style>\n",
       "<table border=\"1\" class=\"dataframe\">\n",
       "  <thead>\n",
       "    <tr style=\"text-align: right;\">\n",
       "      <th></th>\n",
       "      <th>movie_id</th>\n",
       "      <th>title</th>\n",
       "      <th>tags</th>\n",
       "    </tr>\n",
       "  </thead>\n",
       "  <tbody>\n",
       "    <tr>\n",
       "      <th>0</th>\n",
       "      <td>19995</td>\n",
       "      <td>Avatar</td>\n",
       "      <td>[In, the, 22nd, century,, a, paraplegic, Marin...</td>\n",
       "    </tr>\n",
       "    <tr>\n",
       "      <th>1</th>\n",
       "      <td>285</td>\n",
       "      <td>Pirates of the Caribbean: At World's End</td>\n",
       "      <td>[Captain, Barbossa,, long, believed, to, be, d...</td>\n",
       "    </tr>\n",
       "    <tr>\n",
       "      <th>2</th>\n",
       "      <td>206647</td>\n",
       "      <td>Spectre</td>\n",
       "      <td>[A, cryptic, message, from, Bond’s, past, send...</td>\n",
       "    </tr>\n",
       "    <tr>\n",
       "      <th>3</th>\n",
       "      <td>49026</td>\n",
       "      <td>The Dark Knight Rises</td>\n",
       "      <td>[Following, the, death, of, District, Attorney...</td>\n",
       "    </tr>\n",
       "    <tr>\n",
       "      <th>4</th>\n",
       "      <td>49529</td>\n",
       "      <td>John Carter</td>\n",
       "      <td>[John, Carter, is, a, war-weary,, former, mili...</td>\n",
       "    </tr>\n",
       "    <tr>\n",
       "      <th>...</th>\n",
       "      <td>...</td>\n",
       "      <td>...</td>\n",
       "      <td>...</td>\n",
       "    </tr>\n",
       "    <tr>\n",
       "      <th>4804</th>\n",
       "      <td>9367</td>\n",
       "      <td>El Mariachi</td>\n",
       "      <td>[El, Mariachi, just, wants, to, play, his, gui...</td>\n",
       "    </tr>\n",
       "    <tr>\n",
       "      <th>4805</th>\n",
       "      <td>72766</td>\n",
       "      <td>Newlyweds</td>\n",
       "      <td>[A, newlywed, couple's, honeymoon, is, upended...</td>\n",
       "    </tr>\n",
       "    <tr>\n",
       "      <th>4806</th>\n",
       "      <td>231617</td>\n",
       "      <td>Signed, Sealed, Delivered</td>\n",
       "      <td>[\"Signed,, Sealed,, Delivered\", introduces, a,...</td>\n",
       "    </tr>\n",
       "    <tr>\n",
       "      <th>4807</th>\n",
       "      <td>126186</td>\n",
       "      <td>Shanghai Calling</td>\n",
       "      <td>[When, ambitious, New, York, attorney, Sam, is...</td>\n",
       "    </tr>\n",
       "    <tr>\n",
       "      <th>4808</th>\n",
       "      <td>25975</td>\n",
       "      <td>My Date with Drew</td>\n",
       "      <td>[Ever, since, the, second, grade, when, he, fi...</td>\n",
       "    </tr>\n",
       "  </tbody>\n",
       "</table>\n",
       "<p>4806 rows × 3 columns</p>\n",
       "</div>"
      ],
      "text/plain": [
       "      movie_id                                     title  \\\n",
       "0        19995                                    Avatar   \n",
       "1          285  Pirates of the Caribbean: At World's End   \n",
       "2       206647                                   Spectre   \n",
       "3        49026                     The Dark Knight Rises   \n",
       "4        49529                               John Carter   \n",
       "...        ...                                       ...   \n",
       "4804      9367                               El Mariachi   \n",
       "4805     72766                                 Newlyweds   \n",
       "4806    231617                 Signed, Sealed, Delivered   \n",
       "4807    126186                          Shanghai Calling   \n",
       "4808     25975                         My Date with Drew   \n",
       "\n",
       "                                                   tags  \n",
       "0     [In, the, 22nd, century,, a, paraplegic, Marin...  \n",
       "1     [Captain, Barbossa,, long, believed, to, be, d...  \n",
       "2     [A, cryptic, message, from, Bond’s, past, send...  \n",
       "3     [Following, the, death, of, District, Attorney...  \n",
       "4     [John, Carter, is, a, war-weary,, former, mili...  \n",
       "...                                                 ...  \n",
       "4804  [El, Mariachi, just, wants, to, play, his, gui...  \n",
       "4805  [A, newlywed, couple's, honeymoon, is, upended...  \n",
       "4806  [\"Signed,, Sealed,, Delivered\", introduces, a,...  \n",
       "4807  [When, ambitious, New, York, attorney, Sam, is...  \n",
       "4808  [Ever, since, the, second, grade, when, he, fi...  \n",
       "\n",
       "[4806 rows x 3 columns]"
      ]
     },
     "execution_count": 78,
     "metadata": {},
     "output_type": "execute_result"
    }
   ],
   "source": [
    "movies_df=movies[['movie_id','title','tags']]\n",
    "movies_df"
   ]
  },
  {
   "cell_type": "markdown",
   "metadata": {},
   "source": [
    "Now converting each list in tags column to a string using \"join\" function......."
   ]
  },
  {
   "cell_type": "code",
   "execution_count": 79,
   "metadata": {
    "execution": {
     "iopub.execute_input": "2023-02-23T13:38:58.909953Z",
     "iopub.status.busy": "2023-02-23T13:38:58.909205Z",
     "iopub.status.idle": "2023-02-23T13:38:58.935959Z",
     "shell.execute_reply": "2023-02-23T13:38:58.934332Z",
     "shell.execute_reply.started": "2023-02-23T13:38:58.909926Z"
    }
   },
   "outputs": [
    {
     "data": {
      "text/html": [
       "<div>\n",
       "<style scoped>\n",
       "    .dataframe tbody tr th:only-of-type {\n",
       "        vertical-align: middle;\n",
       "    }\n",
       "\n",
       "    .dataframe tbody tr th {\n",
       "        vertical-align: top;\n",
       "    }\n",
       "\n",
       "    .dataframe thead th {\n",
       "        text-align: right;\n",
       "    }\n",
       "</style>\n",
       "<table border=\"1\" class=\"dataframe\">\n",
       "  <thead>\n",
       "    <tr style=\"text-align: right;\">\n",
       "      <th></th>\n",
       "      <th>movie_id</th>\n",
       "      <th>title</th>\n",
       "      <th>tags</th>\n",
       "    </tr>\n",
       "  </thead>\n",
       "  <tbody>\n",
       "    <tr>\n",
       "      <th>0</th>\n",
       "      <td>19995</td>\n",
       "      <td>Avatar</td>\n",
       "      <td>In the 22nd century, a paraplegic Marine is di...</td>\n",
       "    </tr>\n",
       "    <tr>\n",
       "      <th>1</th>\n",
       "      <td>285</td>\n",
       "      <td>Pirates of the Caribbean: At World's End</td>\n",
       "      <td>Captain Barbossa, long believed to be dead, ha...</td>\n",
       "    </tr>\n",
       "    <tr>\n",
       "      <th>2</th>\n",
       "      <td>206647</td>\n",
       "      <td>Spectre</td>\n",
       "      <td>A cryptic message from Bond’s past sends him o...</td>\n",
       "    </tr>\n",
       "    <tr>\n",
       "      <th>3</th>\n",
       "      <td>49026</td>\n",
       "      <td>The Dark Knight Rises</td>\n",
       "      <td>Following the death of District Attorney Harve...</td>\n",
       "    </tr>\n",
       "    <tr>\n",
       "      <th>4</th>\n",
       "      <td>49529</td>\n",
       "      <td>John Carter</td>\n",
       "      <td>John Carter is a war-weary, former military ca...</td>\n",
       "    </tr>\n",
       "  </tbody>\n",
       "</table>\n",
       "</div>"
      ],
      "text/plain": [
       "   movie_id                                     title  \\\n",
       "0     19995                                    Avatar   \n",
       "1       285  Pirates of the Caribbean: At World's End   \n",
       "2    206647                                   Spectre   \n",
       "3     49026                     The Dark Knight Rises   \n",
       "4     49529                               John Carter   \n",
       "\n",
       "                                                tags  \n",
       "0  In the 22nd century, a paraplegic Marine is di...  \n",
       "1  Captain Barbossa, long believed to be dead, ha...  \n",
       "2  A cryptic message from Bond’s past sends him o...  \n",
       "3  Following the death of District Attorney Harve...  \n",
       "4  John Carter is a war-weary, former military ca...  "
      ]
     },
     "execution_count": 79,
     "metadata": {},
     "output_type": "execute_result"
    }
   ],
   "source": [
    "movies_df['tags'] = movies_df['tags'].apply(lambda x:' '.join(x))\n",
    "movies_df.head()"
   ]
  },
  {
   "cell_type": "code",
   "execution_count": 80,
   "metadata": {
    "execution": {
     "iopub.execute_input": "2023-02-23T13:38:58.938222Z",
     "iopub.status.busy": "2023-02-23T13:38:58.9378Z",
     "iopub.status.idle": "2023-02-23T13:38:58.953261Z",
     "shell.execute_reply": "2023-02-23T13:38:58.952306Z",
     "shell.execute_reply.started": "2023-02-23T13:38:58.938176Z"
    }
   },
   "outputs": [],
   "source": [
    "movies_df['tags']=movies_df['tags'].apply(lambda x:x.lower())"
   ]
  },
  {
   "cell_type": "code",
   "execution_count": 81,
   "metadata": {
    "execution": {
     "iopub.execute_input": "2023-02-23T13:38:58.955137Z",
     "iopub.status.busy": "2023-02-23T13:38:58.954317Z",
     "iopub.status.idle": "2023-02-23T13:38:58.965427Z",
     "shell.execute_reply": "2023-02-23T13:38:58.964509Z",
     "shell.execute_reply.started": "2023-02-23T13:38:58.9551Z"
    }
   },
   "outputs": [
    {
     "data": {
      "text/plain": [
       "'in the 22nd century, a paraplegic marine is dispatched to the moon pandora on a unique mission, but becomes torn between following orders and protecting an alien civilization. action adventure fantasy sciencefiction cultureclash future spacewar spacecolony society spacetravel futuristic romance space alien tribe alienplanet cgi marine soldier battle loveaffair antiwar powerrelations mindandsoul 3d ingeniousfilmpartners twentiethcenturyfoxfilmcorporation duneentertainment lightstormentertainment samworthington zoesaldana sigourneyweaver stephenlang michellerodriguez giovanniribisi joeldavidmoore cchpounder wesstudi lazalonso dileeprao mattgerald seananthonymoran jasonwhyte scottlawrence kellykilgour jamespatrickpitt seanpatrickmurphy peterdillon kevindorman kelsonhenderson davidvanhorn jacobtomuri michaelblain-rozgay joncurry lukehawker woodyschultz petermensah soniayee jahnelcurfman ilramchoi kylawarren lisaroumain debrawilson chrismala taylorkibby jodielandau julielamm cullenb.madden josephbradymadden frankietorres austinwilson sarawilson tamicawashington-miller lucybriant nathanmeister gerryblair matthewchamberlain paulyates wraywilson jamesgaylyn melvinlenoclarkiii carvonfutrell brandonjelkes micahmoch hanniyahmuhammad christophernolen christaoliver aprilmariethomas bravitaa.threatt colinbleasdale mikebodnar mattclayton nicoledionne jamieharrison allanhenry anthonyingruber ashleyjeffery deanknowsley josephmika-hunt terrynotary kaipantano loganpithyou stuartpollock raja garethruck rhiansheehan t.j.storm jodietaylor aliciavela-bailey richardwhiteside nikiezambo julenerenee jamescameron jonlandau'"
      ]
     },
     "execution_count": 81,
     "metadata": {},
     "output_type": "execute_result"
    }
   ],
   "source": [
    "movies_df['tags'][0]"
   ]
  },
  {
   "cell_type": "markdown",
   "metadata": {},
   "source": [
    "## Preparing our system\n",
    "\n",
    "The CountVectorizer function from sklearn converts a collection of text documents to a matrix of token counts, that way we can see the\n",
    "most occuring features in our data.\n",
    "We chose 5000 features as our max since our dataframe contains information for 5000 movies and 'english' for the stop_words\n",
    "parameter since our dataframe is in english. This will cause the Vectorizer to ignore words that don't really add meaning to a sentence,\n",
    "such as, 'the', 'and', etc."
   ]
  },
  {
   "cell_type": "code",
   "execution_count": 82,
   "metadata": {
    "execution": {
     "iopub.execute_input": "2023-02-23T13:38:58.967465Z",
     "iopub.status.busy": "2023-02-23T13:38:58.967046Z",
     "iopub.status.idle": "2023-02-23T13:38:59.596651Z",
     "shell.execute_reply": "2023-02-23T13:38:59.595107Z",
     "shell.execute_reply.started": "2023-02-23T13:38:58.967432Z"
    }
   },
   "outputs": [
    {
     "data": {
      "text/plain": [
       "array([[0, 0, 0, ..., 0, 0, 0],\n",
       "       [0, 0, 0, ..., 0, 0, 0],\n",
       "       [0, 0, 0, ..., 0, 0, 0],\n",
       "       ...,\n",
       "       [0, 0, 0, ..., 0, 0, 0],\n",
       "       [0, 0, 0, ..., 0, 0, 0],\n",
       "       [0, 0, 0, ..., 0, 0, 0]], dtype=int64)"
      ]
     },
     "execution_count": 82,
     "metadata": {},
     "output_type": "execute_result"
    }
   ],
   "source": [
    "cv=CountVectorizer(max_features=5000, stop_words='english')\n",
    "vectors=cv.fit_transform(movies_df['tags']).toarray()\n",
    "vectors"
   ]
  },
  {
   "cell_type": "code",
   "execution_count": 83,
   "metadata": {
    "execution": {
     "iopub.execute_input": "2023-02-23T13:38:59.59829Z",
     "iopub.status.busy": "2023-02-23T13:38:59.597963Z",
     "iopub.status.idle": "2023-02-23T13:38:59.604375Z",
     "shell.execute_reply": "2023-02-23T13:38:59.603419Z",
     "shell.execute_reply.started": "2023-02-23T13:38:59.598258Z"
    }
   },
   "outputs": [
    {
     "data": {
      "text/plain": [
       "(4806, 5000)"
      ]
     },
     "execution_count": 83,
     "metadata": {},
     "output_type": "execute_result"
    }
   ],
   "source": [
    "vectors.shape"
   ]
  },
  {
   "cell_type": "markdown",
   "metadata": {},
   "source": [
    "## Stemming Features\n",
    "\n",
    "We will use the PorterStemmer function from the NLTK (Natural Language Toolkit) library to reduce words down to their root word.\n",
    "This will keep words that mean the same thing, like 'actions' and 'action', to be counted as different words.\n",
    "> The NLTK (Natural Language Toolkit) library is the go-to API for Natural Language Processing with Python. It is a really\n",
    "powerful tool to preprocess text data for further analysis like with recommendation systems for instance.\n",
    "\n",
    "\n",
    "> The PorterStemmer is a function that removes any prefixes or suffixes from words, leaving only the word stem, hence\n",
    "the name."
   ]
  },
  {
   "cell_type": "code",
   "execution_count": 84,
   "metadata": {
    "execution": {
     "iopub.execute_input": "2023-02-23T13:38:59.621352Z",
     "iopub.status.busy": "2023-02-23T13:38:59.620971Z",
     "iopub.status.idle": "2023-02-23T13:38:59.627254Z",
     "shell.execute_reply": "2023-02-23T13:38:59.626593Z",
     "shell.execute_reply.started": "2023-02-23T13:38:59.621321Z"
    }
   },
   "outputs": [],
   "source": [
    "ps=PorterStemmer()"
   ]
  },
  {
   "cell_type": "code",
   "execution_count": 85,
   "metadata": {
    "execution": {
     "iopub.execute_input": "2023-02-23T13:38:59.628221Z",
     "iopub.status.busy": "2023-02-23T13:38:59.627953Z",
     "iopub.status.idle": "2023-02-23T13:38:59.63687Z",
     "shell.execute_reply": "2023-02-23T13:38:59.636108Z",
     "shell.execute_reply.started": "2023-02-23T13:38:59.628198Z"
    }
   },
   "outputs": [],
   "source": [
    "def stemming(text):\n",
    "    li=[]\n",
    "    for i in text.split():\n",
    "        li.append(ps.stem(i))\n",
    "        \n",
    "    return ' '.join(li)"
   ]
  },
  {
   "cell_type": "code",
   "execution_count": 86,
   "metadata": {
    "execution": {
     "iopub.execute_input": "2023-02-23T13:38:59.639214Z",
     "iopub.status.busy": "2023-02-23T13:38:59.637798Z",
     "iopub.status.idle": "2023-02-23T13:39:09.055264Z",
     "shell.execute_reply": "2023-02-23T13:39:09.054361Z",
     "shell.execute_reply.started": "2023-02-23T13:38:59.639174Z"
    }
   },
   "outputs": [],
   "source": [
    "movies_df['tags']=movies_df['tags'].apply(stemming)"
   ]
  },
  {
   "cell_type": "markdown",
   "metadata": {},
   "source": [
    "## Similarities\n",
    "\n",
    "Using the cosine_similarity function from sklearn, we obtain the cosine distance between each movie vector. Cosine_similarity is\n",
    "frequently used in natural language processing and machine learning to compare the similarity of documents, text, or other highdimensional\n",
    "data. That is to say, the angle between each vector. The smaller the angle, the more similar the data points, in this case\n",
    "movies, are."
   ]
  },
  {
   "cell_type": "code",
   "execution_count": 87,
   "metadata": {
    "execution": {
     "iopub.execute_input": "2023-02-23T13:39:09.056692Z",
     "iopub.status.busy": "2023-02-23T13:39:09.056342Z",
     "iopub.status.idle": "2023-02-23T13:39:10.509373Z",
     "shell.execute_reply": "2023-02-23T13:39:10.508088Z",
     "shell.execute_reply.started": "2023-02-23T13:39:09.05666Z"
    }
   },
   "outputs": [
    {
     "data": {
      "text/plain": [
       "array([[1.        , 0.06897007, 0.04828045, ..., 0.02272727, 0.02548236,\n",
       "        0.        ],\n",
       "       [0.06897007, 1.        , 0.07325794, ..., 0.02299002, 0.        ,\n",
       "        0.        ],\n",
       "       [0.04828045, 0.07325794, 1.        , ..., 0.02414023, 0.        ,\n",
       "        0.        ],\n",
       "       ...,\n",
       "       [0.02272727, 0.02299002, 0.02414023, ..., 1.        , 0.07644708,\n",
       "        0.05025189],\n",
       "       [0.02548236, 0.        , 0.        , ..., 0.07644708, 1.        ,\n",
       "        0.05634362],\n",
       "       [0.        , 0.        , 0.        , ..., 0.05025189, 0.05634362,\n",
       "        1.        ]])"
      ]
     },
     "execution_count": 87,
     "metadata": {},
     "output_type": "execute_result"
    }
   ],
   "source": [
    "similarity=cosine_similarity(vectors)\n",
    "similarity"
   ]
  },
  {
   "cell_type": "code",
   "execution_count": 88,
   "metadata": {
    "execution": {
     "iopub.execute_input": "2023-02-23T13:39:10.51184Z",
     "iopub.status.busy": "2023-02-23T13:39:10.511144Z",
     "iopub.status.idle": "2023-02-23T13:39:10.517864Z",
     "shell.execute_reply": "2023-02-23T13:39:10.517134Z",
     "shell.execute_reply.started": "2023-02-23T13:39:10.511801Z"
    }
   },
   "outputs": [
    {
     "data": {
      "text/plain": [
       "(4806, 4806)"
      ]
     },
     "execution_count": 88,
     "metadata": {},
     "output_type": "execute_result"
    }
   ],
   "source": [
    "similarity.shape"
   ]
  },
  {
   "cell_type": "code",
   "execution_count": 89,
   "metadata": {
    "execution": {
     "iopub.execute_input": "2023-02-23T13:39:10.519943Z",
     "iopub.status.busy": "2023-02-23T13:39:10.519353Z",
     "iopub.status.idle": "2023-02-23T13:39:10.532846Z",
     "shell.execute_reply": "2023-02-23T13:39:10.532042Z",
     "shell.execute_reply.started": "2023-02-23T13:39:10.51991Z"
    }
   },
   "outputs": [
    {
     "data": {
      "text/plain": [
       "[(1216, 0.2528558164964056),\n",
       " (539, 0.24140227479263376),\n",
       " (507, 0.23162743094465488),\n",
       " (1920, 0.22305671869347435),\n",
       " (582, 0.21774708517784636)]"
      ]
     },
     "execution_count": 89,
     "metadata": {},
     "output_type": "execute_result"
    }
   ],
   "source": [
    "sorted(list(enumerate(similarity[0])), reverse=True, key=lambda x:x[1])[1:6]"
   ]
  },
  {
   "cell_type": "markdown",
   "metadata": {},
   "source": [
    "## Recommendation Function \n",
    "\n",
    "Final use and we can use it to build our new movie recommendation system"
   ]
  },
  {
   "cell_type": "code",
   "execution_count": 90,
   "metadata": {
    "execution": {
     "iopub.execute_input": "2023-02-23T13:39:10.534943Z",
     "iopub.status.busy": "2023-02-23T13:39:10.534334Z",
     "iopub.status.idle": "2023-02-23T13:39:10.541147Z",
     "shell.execute_reply": "2023-02-23T13:39:10.540423Z",
     "shell.execute_reply.started": "2023-02-23T13:39:10.534907Z"
    }
   },
   "outputs": [],
   "source": [
    "def recommend(movie):\n",
    "    movies_index=movies_df[movies_df['title']==movie].index[0]  ##this is the problem\n",
    "    distances=similarity[movies_index]\n",
    "    movie_list=sorted(list(enumerate(distances)), reverse=True , key=lambda x:x[1])[1:6]\n",
    "    \n",
    "    \n",
    "    for i in movie_list:\n",
    "        print(movies_df.iloc[i[0]].title)"
   ]
  },
  {
   "cell_type": "markdown",
   "metadata": {},
   "source": [
    "## Example 1"
   ]
  },
  {
   "cell_type": "code",
   "execution_count": 91,
   "metadata": {
    "execution": {
     "iopub.execute_input": "2023-02-23T13:39:10.543186Z",
     "iopub.status.busy": "2023-02-23T13:39:10.542556Z",
     "iopub.status.idle": "2023-02-23T13:39:10.556831Z",
     "shell.execute_reply": "2023-02-23T13:39:10.555902Z",
     "shell.execute_reply.started": "2023-02-23T13:39:10.54315Z"
    }
   },
   "outputs": [
    {
     "name": "stdout",
     "output_type": "stream",
     "text": [
      "Cars 2\n",
      "A Bug's Life\n",
      "The Brave Little Toaster\n",
      "Finding Nemo\n",
      "Monsters, Inc.\n"
     ]
    }
   ],
   "source": [
    "recommend('Cars')"
   ]
  },
  {
   "cell_type": "markdown",
   "metadata": {},
   "source": [
    "## Example 2"
   ]
  },
  {
   "cell_type": "code",
   "execution_count": 92,
   "metadata": {
    "execution": {
     "iopub.execute_input": "2023-02-23T13:40:57.639771Z",
     "iopub.status.busy": "2023-02-23T13:40:57.639443Z",
     "iopub.status.idle": "2023-02-23T13:40:57.649765Z",
     "shell.execute_reply": "2023-02-23T13:40:57.64875Z",
     "shell.execute_reply.started": "2023-02-23T13:40:57.639741Z"
    }
   },
   "outputs": [
    {
     "name": "stdout",
     "output_type": "stream",
     "text": [
      "Henry & Me\n",
      "Nicholas Nickleby\n",
      "Man of Steel\n",
      "Ong Bak 2\n",
      "Conan the Barbarian\n"
     ]
    }
   ],
   "source": [
    "recommend('Jack the Giant Slayer')"
   ]
  },
  {
   "cell_type": "markdown",
   "metadata": {},
   "source": [
    "## Example 3"
   ]
  },
  {
   "cell_type": "code",
   "execution_count": 93,
   "metadata": {},
   "outputs": [
    {
     "name": "stdout",
     "output_type": "stream",
     "text": [
      "The Black Hole\n",
      "20,000 Leagues Under the Sea\n",
      "Master and Commander: The Far Side of the World\n",
      "The Adventures of Tintin\n",
      "Supporting Characters\n"
     ]
    }
   ],
   "source": [
    "recommend(\"King Kong\")"
   ]
  },
  {
   "cell_type": "code",
   "execution_count": null,
   "metadata": {},
   "outputs": [],
   "source": []
  }
 ],
 "metadata": {
  "kernelspec": {
   "display_name": "Python 3 (ipykernel)",
   "language": "python",
   "name": "python3"
  },
  "language_info": {
   "codemirror_mode": {
    "name": "ipython",
    "version": 3
   },
   "file_extension": ".py",
   "mimetype": "text/x-python",
   "name": "python",
   "nbconvert_exporter": "python",
   "pygments_lexer": "ipython3",
   "version": "3.11.3"
  }
 },
 "nbformat": 4,
 "nbformat_minor": 4
}
